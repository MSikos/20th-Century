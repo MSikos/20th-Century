{
 "cells": [
  {
   "cell_type": "markdown",
   "id": "87a4976c-0c9c-42b9-8166-83903887d129",
   "metadata": {},
   "source": [
    "# MSikos Exercise 1.6 Task - Intro to NLP and Network Analysis"
   ]
  },
  {
   "cell_type": "markdown",
   "id": "d858d02b-dce3-4422-b747-faba3a0bf3f0",
   "metadata": {},
   "source": [
    "Link to Github repository: https://github.com/MSikos/20th-Century"
   ]
  },
  {
   "cell_type": "markdown",
   "id": "11f0bbf7-39b5-4b91-8d9c-a44c074b09d1",
   "metadata": {},
   "source": [
    "## 1. Import Libraries"
   ]
  },
  {
   "cell_type": "code",
   "execution_count": 61,
   "id": "1a64b9c1-f144-4903-b71f-9e6ad0fc6ab1",
   "metadata": {},
   "outputs": [],
   "source": [
    "import pandas as pd\n",
    "import numpy as np\n",
    "import spacy\n",
    "from spacy import displacy\n",
    "import networkx as nx\n",
    "import os\n",
    "import scipy\n",
    "import re\n",
    "import matplotlib.pyplot as plt"
   ]
  },
  {
   "cell_type": "code",
   "execution_count": 62,
   "id": "f6a0f1ef",
   "metadata": {},
   "outputs": [],
   "source": [
    "# set path for data files\n",
    "path = r'C:\\Users\\Stony\\OneDrive\\CareerFoundry\\Data Specialiaztion Course\\Achievement 1\\Repositories\\20th-Century'"
   ]
  },
  {
   "cell_type": "code",
   "execution_count": 63,
   "id": "22b955b2-11eb-4d4c-86cc-d084b1ce815f",
   "metadata": {},
   "outputs": [],
   "source": [
    "%%capture\n",
    "# Download English module\n",
    "!python -m spacy download en_core_web_sm"
   ]
  },
  {
   "cell_type": "code",
   "execution_count": 64,
   "id": "a9435bc1-f35c-4078-b757-db144352a131",
   "metadata": {},
   "outputs": [
    {
     "name": "stdout",
     "output_type": "stream",
     "text": [
      "Collecting en-core-web-sm==3.8.0\n",
      "  Using cached https://github.com/explosion/spacy-models/releases/download/en_core_web_sm-3.8.0/en_core_web_sm-3.8.0-py3-none-any.whl (12.8 MB)\n",
      "\u001b[38;5;2m✔ Download and installation successful\u001b[0m\n",
      "You can now load the package via spacy.load('en_core_web_sm')\n"
     ]
    }
   ],
   "source": [
    "# Download English module\n",
    "!python -m spacy download en_core_web_sm"
   ]
  },
  {
   "cell_type": "code",
   "execution_count": 65,
   "id": "fa4455e3-aeb0-432a-a0bf-ba36fa60f759",
   "metadata": {},
   "outputs": [],
   "source": [
    "# Load spacy English module\n",
    "NER = spacy.load(\"en_core_web_sm\")"
   ]
  },
  {
   "cell_type": "markdown",
   "id": "4dfdfa92-c869-4ef8-8871-e6a6abbe835f",
   "metadata": {},
   "source": [
    "## 2. Load 20th Century text file"
   ]
  },
  {
   "cell_type": "code",
   "execution_count": 66,
   "id": "56a55069-0e59-43a9-9418-4c58e7381ea1",
   "metadata": {},
   "outputs": [],
   "source": [
    "# Load the text file\n",
    "\n",
    "with open(os.path.join(path, '02 Data', 'Prepared Data', '20thCentury_Events_Updated.txt'), 'r', errors='ignore') as file:\n",
    "    data = file.read().replace('\\n', '')"
   ]
  },
  {
   "cell_type": "code",
   "execution_count": 67,
   "id": "4059048e-db84-422b-845d-a6c6753cad6a",
   "metadata": {
    "scrolled": true
   },
   "outputs": [
    {
     "name": "stdout",
     "output_type": "stream",
     "text": [
      "From Wikipedia, the free encyclopediaThe 20th century changed the world in unprecedented ways. The World Wars sparked tension between countries and led to the creation of atomic bombs, the Cold War led to the Space Race and the creation of space-based rockets, and the World Wide Web was created. These advancements have played a significant role in citizens' lives and shaped the 21st century into what it is today.Historic events in the 20th century[edit]World at the beginning of the century[edit]Main article: Edwardian eraThe new beginning of the 20th century marked significant changes. The 1900s saw the decade herald a series of inventions, including the automobile, airplane and radio broadcasting.From 1914 to 1918, the First World War, and its aftermath, caused major changes in the power balance of the world, destroying or transforming some of the most powerful empires.\"The war to end all wars\": World War I (1914–1918)[edit]Main article: World War IArrest of a suspect in Sarajevo following the Assassination of Archduke Franz FerdinandThe First World War (or simply WWI), termed \"The Great War\" by contemporaries, started in 1914 and ended in 1918. The war and by extension the century as a whole was ignited by the Assassination in Sarajevo of the Austro-Hungarian Empire's heir to the throne, Erzherzog Franz Ferdinand, by Gavrilo Princip of the organization \"Young Bosnia,\" Bosnian Serbs' liberation movement. This was similar to how the 9/11 was the inciting incident of the 21st century.[1] Bound by Slavic nationalism to help the small Serbian state, the Russians came to the aid of the Serbs when they were attacked. Interwoven alliances, an increasing arms race, and old hatreds dragged Europe into the war.[2] The Allies, known initially as \"The Triple Entente\", comprised the British Empire, France, and Russia. Germany, Austria-Hungary, Bulgaria, and later the Ottoman Empire, were known as \"The Central Powers\".[3][4]In 1917, Russia ended hostile actions against the Central Powers after the fall of the Tsar. The Bolsheviks negotiated the Treaty of Brest-Litovsk with Germany, although it was a huge cost to Russia. In the treaty, Bolshevik Russia ceded the Baltic states to Germany, and its province of Kars Oblast in the South Caucasus to the Ottoman Empire. It also recognized the independence of Ukraine.[5] Although Germany shifted huge forces from the eastern to the western front after signing the treaty, it was unable to stop the Allied advance, especially with the entrance of American troops in 1918.[6]The war itself was also a chance for the combatant nations to show off their military strength and technological ingenuity. The Germans introduced the machine gun,[7] U-boats[8] and deadly gases.[9] The British first used the tank.[10] Both sides had a chance to test out their new aircraft to see if they could be used in warfare. It was widely believed that the war would be short. Unfortunately, since trench warfare was the best form of defense, advances on both sides were very slow and came at a terrible cost to lives.[11]Division of Austria-Hungary after World War IWhen the war was finally over in 1918, the results would set the stage for the next twenty years. First and foremost, the Germans were forced to sign the Treaty of Versailles, forcing them to make exorbitant payments to repair damages caused during the War. Many Germans felt these reparations were unfair because they did not actually \"lose\" the war nor did they feel they caused the war (see Stab-in-the-back legend).[12] Germany was never occupied by Allied troops, yet it had to accept a liberal democratic government imposed on it by the victors after the abdication of Kaiser Wilhelm.[13]Much of the map of Europe was redrawn by the victors based upon the theory that future wars could be prevented if all ethnic groups had their own \"homeland\".  New states like Yugoslavia and Czechoslovakia were created out of the former Austro-Hungarian Empire to accommodate the nationalist aspirations of these groups.[14]  An international body called the League of Nations was formed to mediate disputes and prevent future wars, although its effectiveness was severely limited by, among other things, its reluctance and inability to act.[15]Russian Revolution and communism[edit]Main article: Russian RevolutionThe Russian Revolution of 1917 (ending in the overthrow of the Tsarist regime and the execution of His Imperial Majesty Nicholas II and his family) sparked a wave of communist revolutions across Europe, prompting many to believe that a socialist world revolution could be realized in the near future.[16] However, the European revolutions were defeated, Vladimir Lenin died in 1924, and within a few years, Joseph Stalin displaced Leon Trotsky as the de facto leader of the Soviet Union. The idea of worldwide revolution was no longer in the forefront, as Stalin concentrated on \"socialism in one country\"[17] and embarked on a bold plan of collectivization and industrialization.[18] The majority of socialists and even many communists became disillusioned with Stalin's autocratic rule, his purges and the assassination of his \"enemies\", as well as the news of famines he imposed on his own people.[19]Communism was strengthened as a force in Western democracies when the global economy crashed in 1929 in what became known as the Great Depression. Many people saw this as the first stage of the end of the capitalist system and were attracted to Communism as a solution to the economic crisis, especially as the Soviet Union's economic development in the 1930s was strong, unaffected by the capitalist world's crisis.[20]Between the wars[edit]Dorothea Lange's 1936 photo Migrant Mother is one of the most iconic photos associated with the Great DepressionMain article: Interwar periodEconomic depression[edit]Main articles: Roaring Twenties and Great DepressionAfter World War I, the global economy remained strong through most of the 1920s. The war had provided a stimulus for industry and economic activity in general. There were many warning signs foretelling the Crash of 29 of the global economic system at the end of the decade, that were generally not understood by the political leadership of the time.[21] The responses to the crisis often made the situation worse, as millions of people watched their savings become next to worthless, and the idea of a steady job with a reasonable income fading away.[22]Many sought answers from alternative ideologies such as communism and fascism.[23] They believed that the capitalist economic system was collapsing and that new ideas were required to meet the crisis. The early responses to the crisis were based on the assumption that the free market would correct itself. This, however, did very little to correct the crisis or to alleviate the suffering of many ordinary people. Thus, the idea that the existing system could be reformed by government intervention in the economy, rather than by continuing the laissez-faire approach, became prominent as a solution to the crisis. Democratic governments assumed the responsibility to provide needed services in society, and to alleviate poverty. Thus was born the welfare state.[24] These two politico-economic principles, the belief in government intervention and the welfare state, as opposed to the belief in the free market and private institutions, would define many political battles for the rest of the century.The rise of dictatorship[edit]Main articles: Fascism, Totalitarianism, and DictatorshipNazi soldiers hang a poster on the window of Jewish-owned business, that says: \"Germans, defend yourselves. Do not buy from Jews\". Germany, 1933Fascism first appeared in Italy with the rise to power of Benito Mussolini in 1922.[25] The ideology was supported by a large proportion of the upper classes as a strong challenge to the threat of communism.[26]When Adolf Hitler came to power in Germany in 1933, a new variant of fascism called Nazism took over Germany and ended the German experiment with democracy. The Nazi Party in Germany was dedicated to the restoration of German honor and prestige, the unification of German-speaking peoples, and the annexation of Central and Eastern Europe as vassal states, with the Slavic population to act as slave labor to serve German economic interests.[27]  There was also a strong appeal to a mythical racial purity (the idea that Germans were the Herrenvolk or the \"master race\"), and a vicious antisemitism which promoted the idea of Jews as subhuman (Untermensch) and worthy only of extermination.[28]Many people in Western Europe and the United States greeted the rise of Hitler with relief or indifference.[29] They could see nothing wrong with a strong Germany ready to take on the communist menace to the east. Antisemitism during the Great Depression was widespread as many were content to blame the Jews for causing the economic downturn.[30]Hitler began to put his plan in motion, annexing Austria in the Anschluss, or reunification of Austria to Germany, in 1938.[31] He then negotiated the annexation of the Sudetenland, a German-speaking mountainous area of Czechoslovakia, in the Munich Conference.[32] The British were eager to avoid war and believed Hitler's assurance to protect the security of the Czech state.  Hitler annexed the rest of the Czech state shortly afterwards, indicating that he had ulterior motives.[33]Fascism was not the only form of dictatorship to rise in the post-war period.  Almost all of the new democracies in the nations of Eastern Europe collapsed and were replaced by authoritarian regimes.[34] Spain also became a dictatorship under the leadership of General Francisco Franco after the Spanish Civil War.[35] Totalitarian states attempted to achieve total control over their subjects as well as their total loyalty. They held the state above the individual, and were often responsible for some of the worst acts in history, such as the Holocaust Adolf Hitler perpetrated on European Jews, or the Great Purge Stalin perpetrated in the Soviet Union in the 1930s.Global war: World War II (1939–1945)[edit]Main article: World War IIThe war in Europe[edit]Main article: European Theater of World War IIThis section provides a conversational overview of World War II in Europe. See main article for a fuller discussion.The signing of the Molotov–Ribbentrop Pact in Moscow, 23 August 1939Soon after the events in Czechoslovakia, Britain and France issued assurances of protection to Poland, which seemed to be next on Hitler's list. World War II officially began on 1 September 1939, when Hitler unleashed his Blitzkrieg, or lightning war, against Poland. Britain and France, much to Hitler's surprise, immediately declared war upon Germany, but the help they delivered to Poland was negligible.[36] Sixteen days later, Poland was attacked from the East by Soviet Union, acting in a secret alliance with Nazi Germany.[37] After only a few weeks, the Polish forces were overwhelmed, and its government fled to exile in London (see Polish government in Exile).In starting World War II, the Germans had unleashed a new type of warfare, characterized by highly mobile forces and the use of massed aircraft. The German strategy concentrated upon the devotion of the Wehrmacht, or German army, to the use of tank groups, called panzer divisions, and groups of mobile infantry, in concert with relentless attacks from the air. Encirclement was also a major part of the strategy. This change smashed any expectations that the Second World War would be fought in the trenches like the first.[38]As Hitler's forces conquered Poland, the Soviet Union, under General Secretary Joseph Stalin, was acting out guarantees of territory under a secret part of a nonaggression pact between the USSR and Germany known as the Molotov–Ribbentrop Pact. This treaty gave Stalin free rein to take the Baltic republics of Estonia, Latvia, and Lithuania, as well as Eastern Poland, all of which would remain in Soviet possession after the war.[39] Stalin also launched an attack on Finland, which he hoped to reduce to little more than a Soviet puppet state, but the Red Army met staunch Finnish resistance in what became known as the Winter War and succeeded in gaining only limited territory from the Finns.[40] This action would later cause the Finns to ally with Germany when its attack on the Soviet Union came in 1941.[41]Blitzkrieg[edit]After the defeat of Poland, a period known as the Phony War ensued during the winter of 1939–1940, which saw only limited military land operation on the Western Front.[42] All of this changed on 10 May 1940, when the Germans launched a massive attack on the Low Countries (Belgium, the Netherlands, and Luxembourg), most probably to surmount the Maginot Line of defenses on the Franco-German border.[43] This witnessed the incredible fall of Eben Emael, a Belgian fort considered impregnable and guarded by 600 Belgians, to a force of only 88 German paratroopers. The worst of this was that King Leopold III of Belgium surrendered to the Germans on 28 May without warning his allies, exposing the entire flank of the Allied forces to German panzer groups.[44] Following the conquest of the Low Countries, Hitler occupied Denmark and Norway, beginning on 9 April 1940. Norway was strategically important because of its sea routes which supplied crucial Swedish ore to the Nazi war machine. Norway held on for a few crucial weeks, but Denmark surrendered after only six hours.[45][46] Sweden was the only Scandinavian country to successfully maintain its neutrality throughout the war, with occasional breaches of neutrality in favor of both Germany and the Western Allies.[47]With the disaster in the Low Countries, France, considered at the time to have had the finest army in the world, lasted only four weeks, with Paris being occupied on 14 June. Three days later, Marshal Philippe Pétain surrendered to the Germans.[48] The debacle in France also led to one of the war's greatest mysteries, and Hitler's first great blunder, Dunkirk, where a third of a million trapped British and French soldiers were evacuated by not only British war boats, but every craft the army could find, including fishing boats. Hitler refused to \"risk\" his panzers on an action at Dunkirk, listening to the advice of Air Minister Hermann Göring and allowing the Luftwaffe, or German Air Force, to handle the job.[49] The irony of this was that the escaped men would form the core of the army that was to invade the beaches of Normandy in 1944. Hitler did not occupy all of France, but about three-quarters, including all of the Atlantic coast, allowing Marshal Pétain to remain as dictator of an area known as Vichy France.[50] However, members of the escaped French Army formed around General Charles de Gaulle to create the Free French forces, which would continue to battle Hitler in the stead of an independent France.[51] At this moment, Italy, under Benito Mussolini, declared war on the Allies on 10 June, thinking that the war was almost over, but he managed only to occupy a few hundred yards of French territory.[52] Throughout the war, the Italians would be more of a burden to the Nazis than a boon, and would later cost them precious time in Greece.[53][54]German Heinkel He 111 bombers during the Battle of BritainHitler now turned his eyes on Great Britain, which stood alone against him. He ordered his generals to draw up plans for an invasion, code named Operation Sea Lion, and ordered the Luftwaffe to launch a massive air war against the British isles, which would come to be known as the Battle of Britain. The British at first suffered steady losses, but eventually managed to turn the air war against Germany, taking down 2,698 German planes throughout the summer of 1940 to only 915 Royal Air Force (RAF) losses.[55] The key turning point came when the Germans discontinued successful attacks against British airplane factories and radar command and coordination stations and turned to civilian bombing known as terror bombing using the distinctive \"bomb\" sound created by the German dive-bomber, the Stuka.[56] The switch came after a small British bombing force had attacked Berlin.[57] Hitler was infuriated. However, his decision to switch the attacks' focus allowed the British to rebuild the RAF and eventually force the Germans to indefinitely postpone Sea Lion.[58]The importance of the Battle of Britain is that it marked the first of Hitler's defeats, however its overall impact was overshadowed by his later blunders in the east. Secondly, it marked the advent of radar as a major weapon in modern air war.  With radar, squadrons of fighters could be quickly assembled to respond to incoming bombers attempting to bomb civilian targets. It also allowed the identification of the type and a guess at the number of incoming enemy aircraft, as well as tracking of friendly airplanes.[59]Operation Barbarossa[edit]Hitler, taken aback by his defeat over the skies of Britain, now turned his gaze eastward to the Soviet Union. Despite having signed the non-aggression pact with Stalin, Hitler despised communism and wished to destroy it in the land of its birth. He originally planned to launch the attack in early spring of 1941 to avoid the disastrous Russian winter. However, a pro-allied coup in Yugoslavia and Mussolini's almost utter defeat in his invasion of Greece from occupied Albania prompted Hitler to launch a personal campaign of revenge in Yugoslavia and to occupy Greece at the same time.[60] The Greeks would have a bitter revenge of sorts; the attack caused a delay of several crucial weeks of the invasion of the USSR, potentially hampering it.[61]Europe at the height of German control in 1942On 22 June 1941, Hitler attacked Stalin with the largest army the world had ever seen. Over three million men and their weapons were put into service against the Soviet Union.[62] Stalin had been warned about the attack, both by other countries and by his own intelligence network, but he had refused to believe it. Therefore, the Soviet army was largely unprepared and suffered massive setbacks in the early part of the war, despite Stalin's orders to counterattack the Germans.[63] Throughout 1941, German forces, divided into 3 army groups (Army Group A, Army Group B, and Army Group C), occupied the territories of the present day Ukraine and Belarus, laid siege to Leningrad (present day Saint Petersburg), and advanced to within 15 miles of Moscow. At this critical moment, the Soviet people stalled the German Wehrmacht to a halt at the gates of Moscow. Stalin had planned to evacuate the city, and had already moved important government functions, but decided to stay and rally the city. Recently arrived troops from the east under the command of Marshal Georgy Zhukov counterattacked the Germans and drove them from Moscow.[64]Mussolini had launched an offensive in North Africa from Italian-controlled Libya into British-controlled Egypt. However, the British smashed the Italians and were on the verge of taking Libya. Hitler decided to help by sending in a few thousand troops, a Luftwaffe division, and the first-rate general Erwin Rommel.[65] Rommel managed to use his small force to repeatedly smash massively superior British forces and to recapture the port city of Tobruk and advance into Egypt. However, Hitler, embroiled in his invasion of the Soviet Union, refused to send Rommel any more troops, causing Rommel to retreat and preventing him from seizing the Middle East, where Axis-friendly regimes had taken root in Iraq and Persia (present-day Iran).[66][67]After the winter, Hitler launched a fresh offensive in the spring of 1942, with the aim of capturing the oil-rich Caucacus and the city of Stalingrad. However, he repeatedly switched his troops to where they were not needed. The offensive bogged down, and the entire 6th Army, considered the best of German troops, was trapped in Stalingrad. Hitler now refused to let 6th Army break out. He insisted that the German army would force its way in. Hermann Göring also assured Hitler that the Luftwaffe could supply the 6th Army adequately, when it could in reality only supply a minute fraction of the needed ammunition and rations. Eventually, the starved 6th Army surrendered, dealing a severe blow to the Germans. In the end, the defeat at Stalingrad was the turning point for the war in the east.[68]Meanwhile, the Japanese had attacked the United States at Pearl Harbor in Hawaii on 7 December 1941. This disastrous attack forced the Americans into the war. Parts of the German brass advised against declaring war on the US, arguing that since Japan was the aggressor, the Tripartite Pact didn't bind Germany to do so. However, Hitler hoped that Japan would be able to quickly defeat the US and then turn its attention on helping the effort against Russia. Both Germany and Italy declared war on the United States a few days after the attack.[69]Turning tides[edit]A British soldier gives a V gesture to German prisoners captured at El Alamein, 26 October 1942Throughout the rest of 1942 and 1943, the Soviets began to gain ground against the Germans after some victories like the tank battle of Kursk.[70] By this time, Rommel had been forced to abandon North Africa after a defeat by Montgomery at El Alamein in what was the first decisive victory of the Allies over the Germany army, leading Churchill to declare it \"the end of the beginning\".[71] On several fronts, the Wehrmacht had encountered serious casualties that it could not replace. Hitler also insisted on a \"hold at all costs\" policy which forbade relinquishing any ground. He followed a \"fight to the last man\" policy that was completely ineffective. By the beginning of 1944, Hitler had lost all initiative in the Soviet Union, and was struggling even to hold back the tide turning against him.[72]From 1942 to 1944, the United States and Britain acted in only a limited manner in the European theater, much to the chagrin of Stalin. They drove out the Germans in Africa, invading Morocco and Algeria on 8 November 1942.[73] Then, on 10 July 1943, the Allies invaded Sicily, in preparation for an advance through Italy, the \"soft underbelly\" of the Axis, as Winston Churchill called it. On 9 September, the invasion of Italy began.[74] By the winter of 1943, the southern half of Italy was in Allied hands. The Italians, most of whom did not really support the war, had already turned against Mussolini. In July, he had been stripped of power and taken prisoner, though the Italians feigned continued support of the Axis. On 8 September, the Italians formally surrendered,[75] but most of Italy not in Allied hands was controlled by German troops and those loyal to Mussolini's (Mussolini had been freed by German paratroopers) new Italian Social Republic, which in reality consisted of the shrinking zone of German control. The Germans offered staunch resistance, but by 4 June 1944, Rome had fallen.[76]The Battle of the Atlantic took place from 1942 to 1944 and was described as \"longest, largest, and most complex naval battle in history\".[77] The Germans hoped to sever the vital supply lines between Britain and America, sinking many tons of shipping with U-boats, German submarines. However, the development of the destroyer and aircraft with a longer patrol range were effective at countering the U-boat threat and by December 1943, the Germans had lost the battle.[78]Operation Overlord[edit]On 6 June 1944, the Western Allies finally launched the long-awaited assault on \"Fortress Europe\" so wanted by Stalin. The offensive, codenamed Operation Overlord, began the early morning hours of 6 June. The day, known as D-day, was marked by foul weather.  Rommel, who was now in charge of defending France against possible Allied attack, thought the Allies would not attack during the stormy weather, and was on holiday in Germany.[79] Besides this, the Germans were expecting an attack, but at the natural harbor of Calais and not the beaches of Normandy; They did not know about the Allies' artificial harbours, and false leads planted by the Allies suggested Calais as the landing site.[80]U.S. assault troops approaching Omaha Beach, 6 June 1944.By this time, the war was looking ever darker for Germany. On 20 July 1944, a group of conspiring German officers attempted to assassinate Hitler. The bomb they used did injure him, but the second was not used, and a table shielded Hitler in a stroke of luck.[81] The plotters still could have launched a coup, but only the head of occupied Paris acted, arresting SS and Gestapo forces in the city. The German propaganda minister, Joseph Goebbels, rallied the Nazis and hunted down the conspirators, arresting up to 7000 people in the wake of the plot, according to some estimates.[82]In France, the Allies took Normandy and finally Paris on 25 August.[83] In the east, the Soviets had advanced almost to the former Polish-Soviet border. At this time, Hitler introduced the V-weapons, the V-1 flying bomb and, later, the V-2, the first rockets used in modern warfare. The V-1 was often intercepted by air pilots, but the V-2 was extremely fast and carried a large payload. However, this advance came too late in the war to have any real effect.[84] The Germans were also on the verge of introducing a number of terrifying new weapons, including advanced jet aircraft, which were too fast for ordinary propeller aircraft, and submarine improvements which would allow the Germans to again fight effectively in the Atlantic. All this came too late to save Hitler. Although a September invasion of The Netherlands failed, the Allies made steady advances. In the winter of 1944, Hitler put everything into one last desperate gamble in the West, known as the Battle of the Bulge, which, despite an initial advance, was a failure, because the introduction of new Allied tanks and low troop numbers among the Germans prevented any real action being taken. Nevertheless, it was one of the bloodiest battles of the war and the second costliest battle in the history of the American Army.[85]Final days[edit]In early February 1945, the three Allied leaders, Franklin Roosevelt, Winston Churchill, and Joseph Stalin, met at newly liberated Yalta in the Crimea in the Soviet Union in the Yalta Conference.[86] Here, they agreed upon a plan to divide post-war Europe. Most of the east went to Stalin, who agreed to allow free elections in Eastern Europe, which he never did. The west went to Britain, France, and the U.S. Post-war Germany would be split between the four, as would Berlin. This division of spheres of influence would set up international diplomacy for the Cold War that would dominate the second half of the century.[87]At the beginning of 1945, Hitler was on his last strings. The Soviets launched a devastating attack from Poland into Germany and Eastern Europe, intending to take Berlin. The Germans collapsed in the West, allowing the Allies to fan out across Germany. However, the Supreme Allied Commander, American general Dwight D. Eisenhower, refused to strike for Berlin, and instead became obsessed with reports of possible guerrilla activity in southern Germany, which in reality existed mainly in the propaganda of Joseph Goebbels.[88] By 25 April the Soviets had besieged Berlin. Hitler remained in the city in a bunker under the Chancellery garden. On 30 April he committed suicide by shooting himself, after a ritual wedding with his longtime mistress Eva Braun.[89] The Germans held out another 7 days under Admiral Doenitz, their new leader, but the Germans surrendered unconditionally on 7 May 1945, ending the war in Europe (see V-E Day).[90]Rivalries that had begun during the war, combined with the sense of strength in the victorious powers, laid the foundations of the Iron Curtain and of the Cold War.The war in the Pacific[edit]Main article: Asiatic-Pacific TheaterBackground[edit]The first event that is usually linked to the later Pacific conflict was the Mukden Incident of 18 September 1931, during which the Japanese military staged the bombing of the South Manchuria Railway and pinned the blame on Chinese dissidents.[91] Japan then used this as pretext to invade northeastern China the next day and turn the region of Manchuria into the Japanese puppet state of Manchukuo.[92] After the League of Nations commissioned the 1932 Lytton Report, which exposed the Mukden Incident as a Japanese ruse, Japan was left internationally isolated, withdrawing from the League of Nations in March 1933. In 1934 Manchukuo became a constitutional monarchy and the former Chinese Emperor Pu Yi was placed on the throne, despite the real power being held by Japan.[93]Despite relations between Japan and China suffering because the occupation of Manchuria, the situation did not turn into all-out war until 7 July 1937, when a dispute between Chinese and Japanese soldiers turned into a battle during the Marco Polo Bridge Incident.[94] This, in turn, led to a further escalation of the hostilities, leading to the Second Sino-Japanese War, one of the deadliest conflicts in human history.[95] Japan enjoyed some early major victories, capturing both Shanghai and the Chinese capital of Nanjing in 1937 and forcing the Chinese central government 's relocation to Chongqing. Following Chinese victories in Changsha and Guangxi in 1939, the war reached somewhat of a stalemate, with Japan controlling the large cities, but being unable to rule the vast countryside.[96] On 27 September 1940, Japan became cosignatories of the Tripartite Pact, joining a military alliance with Germany and Italy.[97]Japanese Expansion[edit]USS West Virginia during the attack on Pearl HarborOn 7 December 1941, Japan launched a surprise attack on the American base at Pearl Harbor as a mean of preventing the U.S. Pacific Fleet from interfering with its planned expansion in the area.[98] The next day, following Roosevelt's Infamy Speech, the United States declared war on Japan, marking the official entry of both nations in World War 2.[99][100] At the same time, Japan also launched attacks on Thailand, the British colonies of Malaya, Singapore, Hong Kong and American military bases in Guam, Wake Island and the Philippines.[101]The next six months were dominated by Japanese victories against the Allied forces, already war-weary and stretched thin after two years of war in Europe and North Africa. Japan managed to capture British Burma, New Guinea, the Dutch East Indies, the Solomon Islands, Bali and Timor.[102] In March 1942, days before the surrender of the Philippines, general Douglas MacArthur, who came out of retirement to become commander of United States Army Forces in the Far East at the onset of the war, was forced to flee and narrowly escape to Australia.[103] On 19 February 1942, Japan also launched a devastating aerial attack on the Australian city of Darwin, in what was the first attack by a foreign power on Australian soil.[104]The turning of the tide came in early May, during the Battle of the Coral Sea, which proved the first strategic victory of the Allies against Japanese expansion.[105] This was followed one month later by the Battle of Midway, in which the US Navy defeated an attacking Japanese fleet, inflicting devastating damage on the attacking force. The Battle of Midway is widely considered the most important naval battle of the Pacific Campaign and has even been described as \"the most stunning and decisive blow in the history of naval warfare\"[106] The reasons usually given for the resounding victory are Japanese overconfidence in their own forces, poor planning and the intercepting of Japanese battle plans by the United States.[107] The losses suffered during this Battle of Midway, paired with the campaign of attrition that was taking place in Solomon Islands, left Japan unable to replenish its forces and turned the tides of war against it. By August 1942, the Allied forces were on the offensive, earning victories in the New Guinea campaign at Guadalcanal, Milne Bay and Buna-Gona.[108]Allied offensive[edit]A map of the Japanese advance from 1937 to 1942Over the next two years the Allies slowly captured one island base after another, trying to get closer to Japan itself, where it planned to launch massive strategic air attacks and, only if absolutely necessary, execute a ground invasion. By July 1944, the US recaptured Guam and captured Tinian, which finally put them in attacking range of mainland Japan using the new Boeing B-29 bombers.[109] Despite the advances of the Allies, massive fighting was still taking place, both in South-East Asia with the Japanese offensive in India and in the Pacific, with the Battle of the Philippine Sea, where Japan suffered major losses and definitively lost the ability to rely on aircraft carriers.[110] In later October, a combined attack of American and Australian forces took on the Imperial Japanese Navy during the Battle of Leyte Gulf in what was to be the largest naval battle of World War II and possibly the largest naval battle of all time.[111] The Allied victory achieved its stated goal of further severing oil supplied to the Japanese army, which was already struggling to fuel the remainder of its naval power.[112] The battle of Leyte Gulf is also notable as the first battle in which Japanese aircraft carried out organized kamikaze attacks.[113]By early 1945, the Americans set their eyes on the Japanese island of Iwo Jima, which was of great strategic importance, being situated halfway between Tokyo and the Mariana Islands. Capturing the island meant not only a better launch station for aerial attacks against mainland Japan, but also the prevention of its use as an early-warning station against air raids. The Japanese were expecting an attack and have been heavily fortifying the entire island for over a year.[114] Despite the American troops outnumbering the Japanese to a rate of more than 3 to 1, the USA suffered heavy casualties in the 36 days of fighting, with over 6,800 Marines killed and another 20,000 wounded,[115] leading some historians to question the strategic worth of the action.[116] With Japan struggling to defend the homeland islands, counteroffensives in other parts of the Japanese Empire became more feasible, with important battles taking place in Burma, Borneo and China.Continuing to come nearer the main Japanese islands, on 1 April 1945 the US Marines mounted the largest amphibious assault of the Pacific Theater on the island of Okinawa.[117] After a long campaign of island hopping, the Allies were planning to use Kadena Air Base on the large island of Okinawa as a base for Operation Downfall, the planned invasion of the Japanese home islands which were only 340 miles away.[118] The battle was one of the bloodiest in the Pacific, with approximately 160,000 casualties on both sides: at least 75,000 Allied and 84,166–117,000 Japanese. Around half of the island's population of 300,000 were killed, committed suicide or went missing.[119]Enola Gay's ground crew with mission commander Paul Tibbets in the center.Final days[edit]The assaults on both Iwo Jima and Okinawa proved incredibly costly in terms of American lives and president Truman was horrified at the prospect of Operation Downfall, a planned boots-on-the-ground invasion of mainland Japan that was estimated to lead to over a million casualties among American soldiers.[120] Despite a devastating campaign of fire-bombing in Tokyo and dozens of other cities, the Japanese showed no sign of planning to surrender. Following the Potsdam Declaration of 26 July, where the Allies threatened \"prompt and utter destruction\" should Japan not surrender,[121] the decision was made to resort to the first use of atomic bombs. On 6 August, the 393d Bombardment Squadron B-29 Enola Gay, took off from Tinian and dropped the bomb on the city of Hiroshima. Three days later, a second bomb was dropped on Nagasaki. The two bombings killed 129,000–226,000 people, most of them civilians.[122] On 9 August, the Soviet Union also invaded Manchukuo in what was to be the last campaign of the war.[123]On 10 August the \"sacred decision\" was made by Japanese Cabinet to accept the Potsdam terms and on 15 August Emperor Hirohito broadcast to the nation and to the world at large the rescript of surrender, ending the Second World War.[124] The formal Japanese Instrument of Surrender was signed on 2 September 1945, on the battleship USS Missouri, in Tokyo Bay. The surrender was accepted by General Douglas MacArthur as Supreme Commander of the Allied Powers.[125]The Holocaust[edit]Main article: The HolocaustThe Holocaust (which roughly means \"great fire\") was the deliberate, systematic murder of millions of Jews and other minorities during World War II by Hitler's Nazi regime in Europe. Several differing views exist regarding whether it was intended to occur from the war's beginning, or if the plans for it came about later.[126][127] Regardless, persecution of Jews extended well before the war even started, such as in the Kristallnacht (literally \"Crystal Night\", Night of Broken Glass).[128] The Nazis used propaganda to great effect to stir up antisemitic feelings within ordinary Germans. Many people, including politicians and historians, consider the Holocaust to be the worst event in history, and have described Hitler, his followers, and his regime as evil.Slave laborers at the Buchenwald concentration camp.After the conquest of Poland, the Third Reich, which had previously deported Jews and other \"undesirables\", suddenly had within its borders the largest concentration of Jews in the world. The solution was to round up Jews and place them in Nazi concentration camps or in ghettos, cordoned off sections of cities where Jews were forced to live in deplorable conditions, often with tens of thousands starving to death, and the bodies decaying in the streets.[129][130] As appalling as this sounds, they were the lucky ones. After the invasion of the Soviet Union, armed killing squads of SS men known as Einsatzgruppen systematically rounded up Jews and murdered an estimated one million Jews within the country.[131] As barbaric and inhuman as this seems, it was too slow and inefficient by Nazi standards.In 1942, the top leadership met in Wannsee, a suburb of Berlin, and began to plan a more efficient way to slaughter the Jews.[132] The Nazis created a system of extermination camps throughout Poland, and began rounding up Jews from the Soviet Union, and from the Ghettos.[133][134] Not only were Jews shot or gassed to death en masse, but they were forced to provide slave labor and they were used in horrific medical experiments (see Human experimentation in Nazi Germany).[135] Out of the widespread condemnation of the Nazis' medical experiments, the Nuremberg Code of medical ethics was devised.[136]The Nazis took a sadistic pleasure in the death camps; the entrance to the most notorious camp, Auschwitz, stated \"Arbeit Macht Frei\"—\"Work Sets You Free\".[137] In the end, six million Jews and up to 5 million homosexuals, Jehovah's Witnesses, Roma and political prisoners were killed by various means, mainly in the death camps.[138][139][140] An additional several million Soviet and other Allied prisoners of war died in camps and holding areas.[141][142]There is some controversy over whether ordinary Germans knew about the Holocaust.[143] It appears that many Germans knew about the concentration camps; such things were prominently displayed in magazines and newspapers.[144] In many places, Jews had to walk past towns and villages on their way to work as slaves in German industry. In any case, Allied soldiers reported that the smell of the camps carried for miles.[145] A very small number of people deny the Holocaust occurred entirely, though these claims have been routinely discredited by mainstream historians.[146]The Nuclear Age begins[edit]Main article: History of nuclear weaponsDuring the 1930s, innovations in physics made it apparent that it could be possible to develop nuclear weapons of incredible power using nuclear reactions.[147] When World War II broke out, scientists and advisors among the Allies feared that Nazi Germany may have been trying to develop its own atomic weapons, and the United States and the United Kingdom pooled their efforts in what became known as the Manhattan Project to beat them to it. At the secret Los Alamos laboratory in New Mexico, scientist Robert Oppenheimer led a team of the world's top scientists to develop the first nuclear weapons, the first of which was tested at the Trinity site in July 1945.[148] However, Germany had surrendered in May 1945, and it had been discovered that the German atomic bomb program had not been very close to success.[149]The first nuclear explosion, named \"Trinity\", was detonated on 16 July 1945.The Allied team produced two nuclear weapons for use in the war, one powered by uranium-235 and the other by plutonium as fissionable material, named \"Little Boy\" and \"Fat Man\".[150] These were dropped on the Japanese cities of Hiroshima and Nagasaki on 6 and 9 August 1945 each. This, in combination with the Soviet invasion of Japanese-controlled territory, convinced the Japanese government to surrender unconditionally. These two weapons remain the only two nuclear weapons ever used against other countries in war.[151]Nuclear weapons brought an entirely new and terrifying possibility to warfare of nuclear annihilation, because it was feared that they would bring about the human extinction overnight. While at first the United States held a monopoly on the production of nuclear weapons, the Soviet Union, with some assistance from espionage, managed to detonate its first weapon (dubbed \"Joe-1\" by the West) in August 1949.[152][153] The post-war relations between the two, which had already been deteriorating, began to rapidly disintegrate. Soon the two were locked in a massive stockpiling of nuclear weapons. The United States began a crash program to develop the first hydrogen bomb in 1950, and detonated its first thermonuclear weapon in 1952. This new weapon was alone over 400 times as powerful as the weapons used against Japan. The Soviet Union detonated a primitive thermonuclear weapon in 1953 and a full-fledged one in 1955.[154]Nuclear missiles and computerized launch systems increased the range and scope of possible nuclear war.The conflict continued to escalate, with the major superpowers developing long-range missiles (such as the ICBM) and a nuclear strategy which guaranteed that any use of the nuclear weapons would be suicide for the attacking nation (Mutually Assured Destruction). The creation of early warning systems put the control of these weapons into the hands of newly created computers, and they served as a tense backdrop throughout the Cold War.[155]Since the 1940s there were concerns about the rising proliferation of nuclear weapons to new countries, which was seen as being destabilizing to international relations, spurring regional arms races, and generally increasing the likelihood of some form of nuclear war. Eventually, nine nations would overtly develop nuclear weapons, and still maintain stockpiles today: the United States, the Soviet Union (and later Russia would inherit these), the United Kingdom, France, China, India, Pakistan, Israel and North Korea.[156] South Africa developed six crude weapons in the 1980s (which it later dismantled),[157] and Israel almost certainly developed nuclear weapons though it never confirmed nor denied it.[158] The creation of the Nuclear Non-proliferation Treaty in 1968 was an attempt to curtail such proliferation,[159] but a number of countries developed nuclear weapons since it was signed (and many did not sign it), and several other countries, including Libya and Iran were suspected of having clandestine nuclear weapons programs.[160][161]The post-war world[edit]Main article: Post–World War II economic expansionFollowing World War II, the majority of the industrialized world lay in ruins as a result of aerial bombings, naval bombardment, and protracted land campaigns. The United States was a notable exception to this; barring Pearl Harbor and some minor incidents, the U.S. had suffered no attacks upon its territory.[162] The United States and the Soviet Union, which, despite the devastation of its most populated areas, rebuilt quickly, found themselves the world's two dominant superpowers.[163]Much of Western Europe was rebuilt after the war with assistance from the Marshall Plan. Germany, chief instigator of the war, was placed under joint military occupation by the United States, Great Britain, France, and the Soviet Union. Berlin, although in Soviet-controlled territory, was also divided among the four powers.[164] Occupation of Berlin would continue until 1990. Japan was also placed under U.S. occupation, that would last seven years, until 1952.[165] Oddly, these two Axis powers, despite military occupation, soon rose to become the second (Japan) and third (West Germany) most powerful economies in the world.[166]Following the end of the war, the Allies famously prosecuted numerous German officials for war crimes and other offenses in the Nuremberg Trials. Although Adolf Hitler had committed suicide, many of his cronies, including Hermann Göring, were convicted. Less well-known trials of other Axis officials also occurred, including the Tokyo War Crime Trial.[167]The failure of the League of Nations to prevent World War II essentially discredited the organization, and it was dissolved.[168] A new attempt at world peace was begun with the founding of the United Nations on 24 October 1945, in San Francisco.[169] Today, nearly all countries are members, but despite its many successes, the organization's success at achieving its goal of world peace is disputed. The organization was never given enough power to overcome the conflicting interests and priorities of its member nations.The end of empires: decolonization[edit]Michael Somare, the first leader of an independent Papua New Guinea.Main articles: Decolonization and New ImperialismAlmost all the major nations involved in World War II began shedding their overseas colonies soon after the conflict. The tactics employed by the revolutionaries ranged from non-violent forms of protest to armed rebellions, depending on the nation involved.[170][171] Immediately after the war, European powers began a decades-long process of withdrawing from their possessions in Africa and Asia.In India, Mahatma Gandhi became a global icon for his non-violent struggle to achieve Indian independence whereas Mohamed Ali Jinnah advocated for the independence of a separate state for Muslims. This was achieved in 1947 with the end of British rule in India and the Partition of the territory into modern-day India and Pakistan, which would later also further divide, leading to the creation of the People's Republic of Bangladesh in 1971.[172][173] Elsewhere in Asia, The United States granted independence to the Philippines, its major Pacific possession in 1946.[174] In French Indochina, armed insurrections forced the French out in the early 1950s, leading to the formation of Laos, Cambodia and Vietnam.[175]In Africa, nationalists such as Jomo Kenyatta of Kenya and Kwame Nkrumah of Ghana led their respective nations to independence from foreign rule.[176] Mere decades before, the British Empire controlled almost half of the continent, but by 1968, the only British possession in Africa was Seychelles (which would also become independent in 1976). Between 1956 and 1962, almost 20 African countries achieved their independence from France.[177] Through the efforts of Amílcar Cabral and others, the Portuguese colonies of Guinea-Bissau, Cape Verde, Angola, Mozambique and São Tomé and Príncipe followed suit and achieved independence during the mid-1970s, in what was to be the last important wave of African decolonization.[178]In 1946, there were 35 member states in the United Nations, but as the newly independent nations joined the organization, by 1970 membership increased to 127.[179]The emergence of newly independent countries in Africa and Asia that used the borders of the imperial partitions later led to further conflict.[180] In many cases this meant that historically antagonistic ethnic or religious groups now needed to share the same country or that several nations held territorial claims over regions which were more or less arbitrarily divided by European powers.[181][182] Some conflicts which aroused from these tensions, especially the Nigerian Civil War, the Second Congo War, the Second Sudanese Civil War and the Bangladesh Liberation War have been among the bloodiest wars of the 20th century.[183]The Cold War (1947–1991)[edit]Post-war territorial changes in Europe and the formation of the Eastern BlocMain articles: Cold War and Mutual assured destructionDuring the Yalta Conference, where the Western, capitalist powers, and the communist Soviet Union agreed on separate spheres of influence in Europe, they set up the stage for a geopolitical rivalry that would dominate international relations for the next five decades.[184] In March 1946, Winston Churchill gave a now famous speech while visiting Westminster College in the US which is usually credited as the first use of the term iron curtain to refer to the separation of Soviet and Western areas of influence in Europe:[185]From Stettin in the Baltic to Trieste in the Adriatic an iron curtain has descended across the Continent. Behind that line lie all the capitals of the ancient states of Central and Eastern Europe. Warsaw, Berlin, Prague, Vienna, Budapest, Belgrade, Bucharest and Sofia; all these famous cities and the populations around them lie in what I must call the Soviet sphere, and all are subject, in one form or another, not only to Soviet influence but to a very high and in some cases increasing measure of control from Moscow.Indeed, the Soviet Union had already annexed several countries as Soviet Socialist Republics during the war. Eastern Poland (incorporated into the Byelorussian SSR and the Ukrainian SSR),[186] Latvia (which became the Latvian SSR), Estonia (which became the Estonian SSR), Lithuania ( which became the Lithuanian SSR),[187] part of eastern Finland (which became the Karelo-Finnish SSR)[188] and eastern Romania (part of which became the Moldavian SSR)[189] were now wholly part of Soviet Union. Furthermore, between 1945 and 1949, Yugoslavia, Albania, Bulgaria, Poland, Romania, Czechoslovakia, Hungary and East Germany saw communist regimes coming to power and their transformation into People's Republics.[190] While they remained independent countries and their relation with the Soviet authorities would fluctuate over the next half century, they were widely seen as Soviet satellite states. Outside of Europe, countries that would see the rise of communism and would ally themselves to the communist bloc include Mongolia, China, North Korea, Cuba and Vietnam.[191]The spread of the communist ideology in general and the Soviet influence in particular made Western leaders nervous and it even lead to Churchill considering a preemptive attack on the USSR even before World War II was formally ended.[192]The two rival blocks also coalesced into formal mutual defense organizations, with the formation of the North Atlantic Treaty Organization (NATO) in 1949[193] and the Warsaw Pact in 1955,[194] each determine to expand its own influence among unaligned countries and limit the influence of their rivals.War by proxy[edit]Main articles: Korean War, Vietnam War, and Cuban Missile CrisisTwo wars and a near-war in the 1950s became the focus for capitalist versus communist struggle. The first war was the Korean War, fought between People's Republic of China-backed North Korea and mainly United States-backed South Korea. The Korean Peninsula was a Japanese colony between 1910 and 1945, when Soviet and American troops invaded and divided it along the 38th parallel.[195] A communist government controlled the territory north of the border and a capitalist one controlled the South, with both authorities considering the other one illegitimate and claiming sovereignty over the entire peninsula.[196] North Korea's invasion of South Korea on 25 June 1950 led to United Nations intervention.[197] General Douglas MacArthur led troops from the United States, Canada, Australia, Great Britain, and other countries in repulsing the Northern invasion. However, the war reached a stalemate after Chinese intervention pushed U.N. forces back, and an Armistice ended hostilities in July 1953, leaving the two Koreas divided and tense for the rest of the century.[198]The second war, the Vietnam War, was perhaps the third most visible war of the 20th century, after World War I and World War II. After the French withdrawal from its former colony, on 21 July 1954, Vietnam became partitioned into two halves, much like Korea, along the 17th parallel. Fighting between North and South eventually escalated into a regional war. The United States provided aid to South Vietnam[199] and contributed to propaganda efforts against the North,[200] but was not directly involved until the Gulf of Tonkin Resolution, passed in reaction to a supposed North Vietnamese attack upon American destroyers, brought the U.S. into the war as a belligerent.[201] The war was initially viewed as a fight to contain communism (see containment, Truman Doctrine, and Domino Theory), but, as more Americans were drafted and news of events such as the Tet Offensive and My Lai massacre leaked out, American sentiment turned against the war.[202][203] U.S. President Richard Nixon was elected partially on a promise to end the war. This Nixon Doctrine involved a gradual pullout of American forces; South Vietnamese units were supposed to replace them, backed up by American air power. The plan went awry, with Nixon  deliberately sabotaging peace talks for political gain,[204] and the war spilled into neighboring Cambodia while South Vietnamese forces were pushed further back.[205] Eventually, the U.S. and North Vietnam signed the Paris Peace Accords, ending U.S. involvement in the war.[206] With the threat of U.S. retaliation gone, the North proceeded to violate the ceasefire and invaded the South with full military force. Saigon was captured on 30 April 1975, and Vietnam was unified under Communist rule a year later, effectively bringing an end to one of the most unpopular wars of all time.[207][208]The Cuban Missile Crisis illustrates just how close to the brink of nuclear war the world came during the Cold War. Cuba, under Fidel Castro's socialist government, had formed close ties with the Soviet Union.[209] This was obviously disquieting to the United States, given Cuba's proximity. When Lockheed U-2 spy plane flights over the island revealed that Soviet missile launchers were being installed, U.S. President John F. Kennedy instituted a naval blockade and publicly confronted the Soviet Union. After a tense week, the Soviet Union backed down and ordered the launchers removed, not wanting to risk igniting a new world war.[210][211]The space race[edit]In 1969, humans first set foot on the Moon.Main article: Space RaceWith Cold War tensions running high, the Soviet Union and United States took their rivalry to the stars in 1957 with the Soviet launch of Sputnik.[212] A \"space race\" between the two powers followed.[213] The USSR reached several important milestones, such as the first craft on the Moon (Luna 2)[214] and the first human in space (Yuri Gagarin).[215] The U.S. pulled ahead eventually with its Mercury, Gemini, and Apollo programs, which culminated in Apollo 11 astronauts landing on the Moon on 20 July 1969.[216] Five more landings with astronauts followed (Apollo 13 was forced to abort its mission).[217] Nevertheless, despite its successes, the U.S. space program could not match many major achievements of the Soviet space program, such as rover-based space exploration and image and video transfer from the surface of another planet, until the early 21st century.[218][219]In addition, both countries launched numerous probes into space, such as the Venera 7 and Voyager 2.[220]In later decades, space became a somewhat friendlier place. Regular space flights with astronauts were made possible with the American Space Shuttle, which was the first reusable spacecraft to be successfully used.[221] Mir and Skylab enabled prolonged human habitation in space.[222][223] In the 1990s, work on the International Space Station began, and by the end of the century, while still incomplete, it was in continual use by astronauts from the United States, Europe, Russia, Japan, and Canada.[224]The end of the Cold War[edit]In 1989, the Berlin Wall separating West and East Berlin fell.Main article: Cold War (1985-1991)By the 1980s, the Soviet Union was weakening. The Sino-Soviet split had removed the USSR's most powerful ally, the People's Republic of China.[225] Its arms race with the U.S. was draining the country of funds, and further weakened by internal pressures, ethnic and political. Mikhail Gorbachev, its last leader, attempted to reform the country with glasnost and perestroika,[226] but the formation of Solidarity,[227] the fall of the Berlin Wall,[228] and the breaking-off of several Soviet republics, such as Lithuania,[229] started a slippery slope of events that culminated in a coup to overthrow Gorbachev, organized by Communist Party hard-liners. Boris Yeltsin, president of Russia, organized mass opposition, and the coup failed.[230] On 26 December 1991, the Soviet Union was officially disbanded into its constituent republics, thus putting a final line under the already exhausted Cold War.[231]Information and communications technology[edit]Main articles: Computer, History of computing hardware, and InternetThe creation of the transistor revolutionized the development of the computer. The first computers, room-sized electro-mechanical devices built to break cryptographical codes during World War II,[232] quickly became at least 20 times smaller using transistors.[233] Computers became reprogrammable rather than fixed-purpose devices. The invention of programming languages meant computer operators could concentrate on problem solving at a high-level, without having to think in terms of the individual instructions to the computer itself.[234] The creation of operating systems also vastly improved programming productivity. Building on this, computer pioneers could now realize what they had envisioned. The graphical user interface, piloted by a computer mouse made it simple to harness the power of the computer and made it more accessible to new users.[235] Storage for computer programs progressed from punched cards and paper tape to magnetic tape, floppy disks and hard disks. Core memory and bubble memory fell to random access memory.[236]Colossus Mark 2 computer operated by WrensThe invention of the word processor, spreadsheet and database greatly improved office productivity over the old paper, typewriter and filing cabinet methods.[237][238] The economic advantage given to businesses led to economic efficiencies in computers themselves. Cost-effective CPUs led to thousands of industrial and home-brew computer designs, many of which became successful; a home-computer boom was led by the Apple II, the ZX80 and the Commodore PET.[239][240]IBM, seeking to embrace the microcomputer revolution, devised its IBM Personal Computer (PC). Crucially, IBM developed the PC from third-party components that were available on the open market.[241] The only impediment to another company duplicating the system's architecture was the proprietary BIOS software. Other companies, starting with Compaq, reverse engineered the BIOS and released PC compatible computers that soon became the dominant architecture.[242][243] Microsoft, which produced an operating system for the PC, rode this wave of popularity to become the world's leading software company.[244]The 1980s heralded the Information Age. The rise of computer applications and data processing made ethereal \"information\" as valuable as physical commodities. This brought about new concerns surrounding intellectual property issues. The U.S. Government made algorithms patentable, forming the basis of software patents.[245] The controversy over these and proprietary software led Richard Stallman to create the Free Software Foundation and begin the GNU Project, paving the way for a free software movement.[246]Computers also became a usable platform for entertainment. Computer games were first developed by software programmers exercising their creativity on large systems at universities, but these efforts became commercially successful in arcade games such as Pong and Space Invaders.[247] Once the home computer market was established, young programmers in their bedrooms became the core of a youthful video game industry.[248] In order to take advantage of advancing technology, games consoles were created. Like arcade systems, these machines had custom hardware designed to do game-oriented operations (such as sprites and parallax scrolling) in preference to general purpose computing tasks.[249]The first model of the IBM PC, the personal computer whose successors would fill the world.Computer networks appeared in two main styles; the local area network, linking computers in an office or school to each other, and the wide area network, linking the local area networks together. Initially, computers depended on the telephone networks to link to each other, spawning the Bulletin Board sub-culture.[250] However, a DARPA project to create bomb-proof computer networks led to the creation of the Internet, a network of networks. The core of this network was the robust TCP/IP network protocol.[251] Thanks to efforts from Al Gore, the Internet grew beyond its military role when universities and commercial businesses were permitted to connect their networks to it.[252][253] The main impetus for this was electronic mail, a far faster and convenient form of communication than a conventional letter and memo distribution, and the File Transfer Protocol (FTP). However, the Internet remained largely unknown to the general public, who were used to Bulletin Boards and services like Compuserve and America Online. This changed when Tim Berners-Lee devised a simpler form of Vannevar Bush's hypertext, which he dubbed the World Wide Web.[254] \"The Web\" suddenly changed the Internet into a printing press beyond the geographic boundaries of physical countries; it was termed \"cyberspace\". Anyone with a computer and an Internet connection could write pages in the simple HTML format and publish their thoughts to the world.[255]The Web's immense success also fueled the commercial use of the Internet. Convenient home shopping had been an element of \"visions of the future\" since the development of the telephone, but now the race was on to provide convenient, interactive consumerism.[256] Companies trading through websites became known as \"dot coms\", due to the \".com\" suffix of commercial Internet addresses.[257] The change of the century also lead to the fear and paranoia of Y2K, where it was hypothesized that the World's computers would glitch and cause havoc on banks, prisons, transit systems and more.The world at the end of the century[edit]Main article: 1990sBy the end of the century, more technological advances and scientific discoveries had been made than in all of preceding history. Communications and information technology, transportation technology, and medical advances have radically altered daily lives. Europe appeared to be at a sustainable peace for the first time in recorded history. The people of the Indian subcontinent, a sixth of the world population at the end of the century, had attained indigenous independence for the first time in centuries. China, an ancient nation comprising a fifth of the world's population, was finally open to the world in a new and powerful synthesis of West and East, creating a new state after the near-complete destruction of the old cultural order.  With the end of colonialism and the Cold War, nearly a billion people in Africa were left with truly independent new nation-states, some cut from whole cloth, standing up after centuries of foreign domination.[258]The geographic distribution of surface warming during the 21st century calculated by the HadCM3 climate model if a business as usual scenario is assumed for economic growth and greenhouse gas emissions. In this figure, the globally averaged warming corresponds to 3.0 °C (5.4 °F).The world was undergoing its second major period of globalization; the first, which started in the 19th century, having been terminated by World War I.[259] Since the US was in a position of almost unchallenged domination, a major part of the process was Americanization.[260] This led to anti-Western and anti-American feelings in parts of the world, especially the Middle East.[261] The influence of China and India was also rising, as the world's largest populations, long marginalized by the West and by their rulers, were rapidly integrating with the world economy.[262]However, several problems face the world. The gap between rich and poor nations continued to widen. Some said that this problem could not be fixed, that there was a set amount of wealth and it could only be shared by so many. Others said that the powerful nations with large economies were not doing enough to help improve the rapidly evolving economies of the Third World. However, developing countries faced many challenges, including the scale of the task to be surmounted, rapidly growing populations, and the need to protect the environment and the cost that goes along with it.Terrorism, dictatorship, and the spread of nuclear weapons were other issues requiring attention. The world was still blighted by small-scale wars and other violent conflicts, fueled by competition over resources and ethnic conflicts. Despots such as Kim Jong-il of North Korea continued to lead their nations toward the development of nuclear weapons.[263]Disease threatened to destabilize many regions of the world. New viruses such as SARS and West Nile continued to spread.[264][265] In poor nations, malaria and other diseases affected the majority of the population. Millions were infected with HIV, the virus which causes AIDS. The virus was becoming an epidemic in southern Africa.[266]Perhaps most importantly, it was speculated that in the long term, environmental problems threatened the planet's livability. The most serious problem was global warming, which was predicted to frequently flood coastal areas, due to human-caused emission of greenhouse gases, particularly carbon dioxide produced by the burning of fossil fuels. Like the threat of a nuclear world war, the shift of climate change has since added to the fear of the possibility of human extinction, although not overnight but over several decades.[267] This prompted many nations to negotiate and sign the Kyoto treaty, which set mandatory limits on carbon dioxide emissions.[268]The celebration of the 20th century’s ending expressed the popular opinion that New Year's Eve 1999 and New Year's Day 2000 marked the turn of the millennium, while strictly speaking the 20th century ended on New Year's Eve 2000 and the 21st century began on New Year's Day 2001.\n"
     ]
    }
   ],
   "source": [
    "print(data)"
   ]
  },
  {
   "cell_type": "code",
   "execution_count": 68,
   "id": "4bf6b32d-640c-44a9-8d76-4c83c57ecb48",
   "metadata": {},
   "outputs": [],
   "source": [
    "# Clean and Wrangle text file by removing citation numbers in brackets from body of text\n",
    "Updated_20thCentury_Events = re.sub(r'\\[\\d+\\]', '', data)  "
   ]
  },
  {
   "cell_type": "code",
   "execution_count": 69,
   "id": "eef8e5a6-6b83-405c-9c6f-8bfdd523c34c",
   "metadata": {},
   "outputs": [],
   "source": [
    "# Write the cleaned text back to a new file\n",
    "with open('Updated_20thCentury_Events.txt', 'w') as file:\n",
    "    file.write(Updated_20thCentury_Events)"
   ]
  },
  {
   "cell_type": "code",
   "execution_count": 70,
   "id": "2a3c0e47-2c09-4a1f-a708-bf1fdef8ce43",
   "metadata": {},
   "outputs": [],
   "source": [
    "# Load the cleaned text file\n",
    "\n",
    "with open('Updated_20thCentury_Events.txt', 'r', errors='ignore') as file:\n",
    "    data = file.read().replace('\\n', '')"
   ]
  },
  {
   "cell_type": "code",
   "execution_count": 71,
   "id": "2d46c47b-a8b2-4351-9cd8-819d43a2c99e",
   "metadata": {},
   "outputs": [],
   "source": [
    "# Clean and Wrangle text file by removing the [edit] text by every header\n",
    "Cleaned_20thCentury_Events = re.sub(r'\\[edit]', '', data)"
   ]
  },
  {
   "cell_type": "code",
   "execution_count": 72,
   "id": "764fdca2-12ce-4a5c-951a-361d21ad1951",
   "metadata": {},
   "outputs": [],
   "source": [
    "# Write the cleaned text back to a new file\n",
    "with open('Cleaned_20thCentury_Events.txt', 'w') as file:\n",
    "    file.write(Cleaned_20thCentury_Events)"
   ]
  },
  {
   "cell_type": "code",
   "execution_count": 73,
   "id": "16a24bc8-78ef-4dd0-b333-7709fd6eb661",
   "metadata": {
    "scrolled": true
   },
   "outputs": [
    {
     "name": "stdout",
     "output_type": "stream",
     "text": [
      "From Wikipedia, the free encyclopediaThe 20th century changed the world in unprecedented ways. The World Wars sparked tension between countries and led to the creation of atomic bombs, the Cold War led to the Space Race and the creation of space-based rockets, and the World Wide Web was created. These advancements have played a significant role in citizens' lives and shaped the 21st century into what it is today.Historic events in the 20th centuryWorld at the beginning of the centuryMain article: Edwardian eraThe new beginning of the 20th century marked significant changes. The 1900s saw the decade herald a series of inventions, including the automobile, airplane and radio broadcasting.From 1914 to 1918, the First World War, and its aftermath, caused major changes in the power balance of the world, destroying or transforming some of the most powerful empires.\"The war to end all wars\": World War I (1914–1918)Main article: World War IArrest of a suspect in Sarajevo following the Assassin\n"
     ]
    }
   ],
   "source": [
    "print(Cleaned_20thCentury_Events[:1000])"
   ]
  },
  {
   "cell_type": "code",
   "execution_count": 74,
   "id": "cd579774-1678-4245-91b0-e3db2df5e840",
   "metadata": {},
   "outputs": [],
   "source": [
    "book = NER(data)"
   ]
  },
  {
   "cell_type": "code",
   "execution_count": 75,
   "id": "154a7719-7cf0-4088-b3e7-969cb7e7a162",
   "metadata": {
    "scrolled": true
   },
   "outputs": [
    {
     "data": {
      "text/html": [
       "<span class=\"tex2jax_ignore\"><div class=\"entities\" style=\"line-height: 2.5; direction: ltr\">the inciting incident of \n",
       "<mark class=\"entity\" style=\"background: #bfe1d9; padding: 0.45em 0.6em; margin: 0 0.25em; line-height: 1; border-radius: 0.35em;\">\n",
       "    the 21st century\n",
       "    <span style=\"font-size: 0.8em; font-weight: bold; line-height: 1; border-radius: 0.35em; vertical-align: middle; margin-left: 0.5rem\">DATE</span>\n",
       "</mark>\n",
       ". Bound by \n",
       "<mark class=\"entity\" style=\"background: #c887fb; padding: 0.45em 0.6em; margin: 0 0.25em; line-height: 1; border-radius: 0.35em;\">\n",
       "    Slavic\n",
       "    <span style=\"font-size: 0.8em; font-weight: bold; line-height: 1; border-radius: 0.35em; vertical-align: middle; margin-left: 0.5rem\">NORP</span>\n",
       "</mark>\n",
       " nationalism to help the small \n",
       "<mark class=\"entity\" style=\"background: #c887fb; padding: 0.45em 0.6em; margin: 0 0.25em; line-height: 1; border-radius: 0.35em;\">\n",
       "    Serbian\n",
       "    <span style=\"font-size: 0.8em; font-weight: bold; line-height: 1; border-radius: 0.35em; vertical-align: middle; margin-left: 0.5rem\">NORP</span>\n",
       "</mark>\n",
       " state, the \n",
       "<mark class=\"entity\" style=\"background: #c887fb; padding: 0.45em 0.6em; margin: 0 0.25em; line-height: 1; border-radius: 0.35em;\">\n",
       "    Russians\n",
       "    <span style=\"font-size: 0.8em; font-weight: bold; line-height: 1; border-radius: 0.35em; vertical-align: middle; margin-left: 0.5rem\">NORP</span>\n",
       "</mark>\n",
       " came to the aid of the \n",
       "<mark class=\"entity\" style=\"background: #c887fb; padding: 0.45em 0.6em; margin: 0 0.25em; line-height: 1; border-radius: 0.35em;\">\n",
       "    Serbs\n",
       "    <span style=\"font-size: 0.8em; font-weight: bold; line-height: 1; border-radius: 0.35em; vertical-align: middle; margin-left: 0.5rem\">NORP</span>\n",
       "</mark>\n",
       " when they were attacked. Interwoven alliances, an increasing arms race, and old hatreds dragged \n",
       "<mark class=\"entity\" style=\"background: #ff9561; padding: 0.45em 0.6em; margin: 0 0.25em; line-height: 1; border-radius: 0.35em;\">\n",
       "    Europe\n",
       "    <span style=\"font-size: 0.8em; font-weight: bold; line-height: 1; border-radius: 0.35em; vertical-align: middle; margin-left: 0.5rem\">LOC</span>\n",
       "</mark>\n",
       " into the war. The Allies, known initially as &quot;\n",
       "<mark class=\"entity\" style=\"background: #f0d0ff; padding: 0.45em 0.6em; margin: 0 0.25em; line-height: 1; border-radius: 0.35em;\">\n",
       "    The Triple Entente\n",
       "    <span style=\"font-size: 0.8em; font-weight: bold; line-height: 1; border-radius: 0.35em; vertical-align: middle; margin-left: 0.5rem\">WORK_OF_ART</span>\n",
       "</mark>\n",
       "&quot;, comprised \n",
       "<mark class=\"entity\" style=\"background: #feca74; padding: 0.45em 0.6em; margin: 0 0.25em; line-height: 1; border-radius: 0.35em;\">\n",
       "    the British Empire\n",
       "    <span style=\"font-size: 0.8em; font-weight: bold; line-height: 1; border-radius: 0.35em; vertical-align: middle; margin-left: 0.5rem\">GPE</span>\n",
       "</mark>\n",
       ", \n",
       "<mark class=\"entity\" style=\"background: #feca74; padding: 0.45em 0.6em; margin: 0 0.25em; line-height: 1; border-radius: 0.35em;\">\n",
       "    France\n",
       "    <span style=\"font-size: 0.8em; font-weight: bold; line-height: 1; border-radius: 0.35em; vertical-align: middle; margin-left: 0.5rem\">GPE</span>\n",
       "</mark>\n",
       ", and \n",
       "<mark class=\"entity\" style=\"background: #feca74; padding: 0.45em 0.6em; margin: 0 0.25em; line-height: 1; border-radius: 0.35em;\">\n",
       "    Russia\n",
       "    <span style=\"font-size: 0.8em; font-weight: bold; line-height: 1; border-radius: 0.35em; vertical-align: middle; margin-left: 0.5rem\">GPE</span>\n",
       "</mark>\n",
       ". \n",
       "<mark class=\"entity\" style=\"background: #feca74; padding: 0.45em 0.6em; margin: 0 0.25em; line-height: 1; border-radius: 0.35em;\">\n",
       "    Germany\n",
       "    <span style=\"font-size: 0.8em; font-weight: bold; line-height: 1; border-radius: 0.35em; vertical-align: middle; margin-left: 0.5rem\">GPE</span>\n",
       "</mark>\n",
       ", \n",
       "<mark class=\"entity\" style=\"background: #feca74; padding: 0.45em 0.6em; margin: 0 0.25em; line-height: 1; border-radius: 0.35em;\">\n",
       "    Austria\n",
       "    <span style=\"font-size: 0.8em; font-weight: bold; line-height: 1; border-radius: 0.35em; vertical-align: middle; margin-left: 0.5rem\">GPE</span>\n",
       "</mark>\n",
       "-\n",
       "<mark class=\"entity\" style=\"background: #feca74; padding: 0.45em 0.6em; margin: 0 0.25em; line-height: 1; border-radius: 0.35em;\">\n",
       "    Hungary\n",
       "    <span style=\"font-size: 0.8em; font-weight: bold; line-height: 1; border-radius: 0.35em; vertical-align: middle; margin-left: 0.5rem\">GPE</span>\n",
       "</mark>\n",
       ", \n",
       "<mark class=\"entity\" style=\"background: #feca74; padding: 0.45em 0.6em; margin: 0 0.25em; line-height: 1; border-radius: 0.35em;\">\n",
       "    Bulgaria\n",
       "    <span style=\"font-size: 0.8em; font-weight: bold; line-height: 1; border-radius: 0.35em; vertical-align: middle; margin-left: 0.5rem\">GPE</span>\n",
       "</mark>\n",
       ", and later \n",
       "<mark class=\"entity\" style=\"background: #feca74; padding: 0.45em 0.6em; margin: 0 0.25em; line-height: 1; border-radius: 0.35em;\">\n",
       "    the Ottoman Empire\n",
       "    <span style=\"font-size: 0.8em; font-weight: bold; line-height: 1; border-radius: 0.35em; vertical-align: middle; margin-left: 0.5rem\">GPE</span>\n",
       "</mark>\n",
       ", were known as &quot;The Central Powers&quot;.In \n",
       "<mark class=\"entity\" style=\"background: #bfe1d9; padding: 0.45em 0.6em; margin: 0 0.25em; line-height: 1; border-radius: 0.35em;\">\n",
       "    1917\n",
       "    <span style=\"font-size: 0.8em; font-weight: bold; line-height: 1; border-radius: 0.35em; vertical-align: middle; margin-left: 0.5rem\">DATE</span>\n",
       "</mark>\n",
       ", \n",
       "<mark class=\"entity\" style=\"background: #feca74; padding: 0.45em 0.6em; margin: 0 0.25em; line-height: 1; border-radius: 0.35em;\">\n",
       "    Russia\n",
       "    <span style=\"font-size: 0.8em; font-weight: bold; line-height: 1; border-radius: 0.35em; vertical-align: middle; margin-left: 0.5rem\">GPE</span>\n",
       "</mark>\n",
       " ended hostile </div></span>"
      ],
      "text/plain": [
       "<IPython.core.display.HTML object>"
      ]
     },
     "metadata": {},
     "output_type": "display_data"
    }
   ],
   "source": [
    "# Visualize identified entities\n",
    "displacy.render(book[273:373], style = \"ent\", jupyter = True)"
   ]
  },
  {
   "cell_type": "markdown",
   "id": "25d50e1a-a9a2-4785-803b-5b72d7308136",
   "metadata": {},
   "source": [
    "## 3. Get named entity list per sentence"
   ]
  },
  {
   "cell_type": "code",
   "execution_count": 76,
   "id": "22446921-33e7-46b3-a598-1c5651ebbcfa",
   "metadata": {},
   "outputs": [],
   "source": [
    "df_sentences = [] # empty shell to store results\n",
    "\n",
    "# Loop through sentences, get entity list for each sentence\n",
    "for sent in book.sents:\n",
    "    entity_list = [ent.text for ent in sent.ents]\n",
    "    df_sentences.append({\"sentence\": sent, \"entities\": entity_list})\n",
    "    \n",
    "df_sentences = pd.DataFrame(df_sentences)"
   ]
  },
  {
   "cell_type": "code",
   "execution_count": 77,
   "id": "99f453b0-87fc-403a-89be-5c5aa2583243",
   "metadata": {},
   "outputs": [
    {
     "data": {
      "text/html": [
       "<div>\n",
       "<style scoped>\n",
       "    .dataframe tbody tr th:only-of-type {\n",
       "        vertical-align: middle;\n",
       "    }\n",
       "\n",
       "    .dataframe tbody tr th {\n",
       "        vertical-align: top;\n",
       "    }\n",
       "\n",
       "    .dataframe thead th {\n",
       "        text-align: right;\n",
       "    }\n",
       "</style>\n",
       "<table border=\"1\" class=\"dataframe\">\n",
       "  <thead>\n",
       "    <tr style=\"text-align: right;\">\n",
       "      <th></th>\n",
       "      <th>sentence</th>\n",
       "      <th>entities</th>\n",
       "    </tr>\n",
       "  </thead>\n",
       "  <tbody>\n",
       "    <tr>\n",
       "      <th>0</th>\n",
       "      <td>(From, Wikipedia, ,, the, free, encyclopediaTh...</td>\n",
       "      <td>[Wikipedia, encyclopediaThe 20th century]</td>\n",
       "    </tr>\n",
       "    <tr>\n",
       "      <th>1</th>\n",
       "      <td>(The, World, Wars, sparked, tension, between, ...</td>\n",
       "      <td>[The World Wars, the Cold War, the Space Race,...</td>\n",
       "    </tr>\n",
       "    <tr>\n",
       "      <th>2</th>\n",
       "      <td>(These, advancements, have, played, a, signifi...</td>\n",
       "      <td>[the 21st century, today]</td>\n",
       "    </tr>\n",
       "    <tr>\n",
       "      <th>3</th>\n",
       "      <td>(Historic, events, in, the, 20th, century[edit...</td>\n",
       "      <td>[the 20th, Edwardian, the 20th century]</td>\n",
       "    </tr>\n",
       "    <tr>\n",
       "      <th>4</th>\n",
       "      <td>(The, 1900s, saw, the, decade, herald, a, seri...</td>\n",
       "      <td>[The 1900s, the decade]</td>\n",
       "    </tr>\n",
       "    <tr>\n",
       "      <th>5</th>\n",
       "      <td>(From, 1914, to, 1918, ,, the, First, World, W...</td>\n",
       "      <td>[1914 to 1918, the First World War]</td>\n",
       "    </tr>\n",
       "    <tr>\n",
       "      <th>6</th>\n",
       "      <td>(\"The)</td>\n",
       "      <td>[]</td>\n",
       "    </tr>\n",
       "    <tr>\n",
       "      <th>7</th>\n",
       "      <td>(war, to, end, all, wars, \", :, World, War, I,...</td>\n",
       "      <td>[World War I, World War IArrest, Sarajevo, Arc...</td>\n",
       "    </tr>\n",
       "    <tr>\n",
       "      <th>8</th>\n",
       "      <td>(The, war, and, by, extension, the, century, a...</td>\n",
       "      <td>[the century, Sarajevo, the Austro-Hungarian E...</td>\n",
       "    </tr>\n",
       "    <tr>\n",
       "      <th>9</th>\n",
       "      <td>(This, was, similar, to, how, the, 9/11, was, ...</td>\n",
       "      <td>[9/11, the 21st century]</td>\n",
       "    </tr>\n",
       "  </tbody>\n",
       "</table>\n",
       "</div>"
      ],
      "text/plain": [
       "                                            sentence  \\\n",
       "0  (From, Wikipedia, ,, the, free, encyclopediaTh...   \n",
       "1  (The, World, Wars, sparked, tension, between, ...   \n",
       "2  (These, advancements, have, played, a, signifi...   \n",
       "3  (Historic, events, in, the, 20th, century[edit...   \n",
       "4  (The, 1900s, saw, the, decade, herald, a, seri...   \n",
       "5  (From, 1914, to, 1918, ,, the, First, World, W...   \n",
       "6                                             (\"The)   \n",
       "7  (war, to, end, all, wars, \", :, World, War, I,...   \n",
       "8  (The, war, and, by, extension, the, century, a...   \n",
       "9  (This, was, similar, to, how, the, 9/11, was, ...   \n",
       "\n",
       "                                            entities  \n",
       "0          [Wikipedia, encyclopediaThe 20th century]  \n",
       "1  [The World Wars, the Cold War, the Space Race,...  \n",
       "2                          [the 21st century, today]  \n",
       "3            [the 20th, Edwardian, the 20th century]  \n",
       "4                            [The 1900s, the decade]  \n",
       "5                [1914 to 1918, the First World War]  \n",
       "6                                                 []  \n",
       "7  [World War I, World War IArrest, Sarajevo, Arc...  \n",
       "8  [the century, Sarajevo, the Austro-Hungarian E...  \n",
       "9                           [9/11, the 21st century]  "
      ]
     },
     "execution_count": 77,
     "metadata": {},
     "output_type": "execute_result"
    }
   ],
   "source": [
    "df_sentences.head(10)"
   ]
  },
  {
   "cell_type": "markdown",
   "id": "4d214685-dbe8-49cd-aeec-ae4a511e715c",
   "metadata": {},
   "source": [
    "## 4. Load Country names"
   ]
  },
  {
   "cell_type": "code",
   "execution_count": 78,
   "id": "fbdf44d5-8513-4f19-9e9c-26ba61726c79",
   "metadata": {},
   "outputs": [],
   "source": [
    "# Import countries\n",
    "countries_df = pd.read_csv(os.path.join(path, '02 Data', 'Prepared Data', \"List of countries.csv\"), index_col = 0)"
   ]
  },
  {
   "cell_type": "code",
   "execution_count": 79,
   "id": "0d6332a3-860e-4bab-9162-0132e688c168",
   "metadata": {},
   "outputs": [
    {
     "data": {
      "text/html": [
       "<div>\n",
       "<style scoped>\n",
       "    .dataframe tbody tr th:only-of-type {\n",
       "        vertical-align: middle;\n",
       "    }\n",
       "\n",
       "    .dataframe tbody tr th {\n",
       "        vertical-align: top;\n",
       "    }\n",
       "\n",
       "    .dataframe thead th {\n",
       "        text-align: right;\n",
       "    }\n",
       "</style>\n",
       "<table border=\"1\" class=\"dataframe\">\n",
       "  <thead>\n",
       "    <tr style=\"text-align: right;\">\n",
       "      <th></th>\n",
       "      <th>country_name</th>\n",
       "    </tr>\n",
       "  </thead>\n",
       "  <tbody>\n",
       "    <tr>\n",
       "      <th>1</th>\n",
       "      <td>Afghanistan</td>\n",
       "    </tr>\n",
       "    <tr>\n",
       "      <th>2</th>\n",
       "      <td>Albania</td>\n",
       "    </tr>\n",
       "    <tr>\n",
       "      <th>3</th>\n",
       "      <td>Algeria</td>\n",
       "    </tr>\n",
       "    <tr>\n",
       "      <th>4</th>\n",
       "      <td>Andorra</td>\n",
       "    </tr>\n",
       "    <tr>\n",
       "      <th>5</th>\n",
       "      <td>Angola</td>\n",
       "    </tr>\n",
       "  </tbody>\n",
       "</table>\n",
       "</div>"
      ],
      "text/plain": [
       "  country_name\n",
       "1  Afghanistan\n",
       "2      Albania\n",
       "3      Algeria\n",
       "4      Andorra\n",
       "5       Angola"
      ]
     },
     "execution_count": 79,
     "metadata": {},
     "output_type": "execute_result"
    }
   ],
   "source": [
    "countries_df.head()"
   ]
  },
  {
   "cell_type": "markdown",
   "id": "f00d90b8-9748-4d55-b6c1-2685a5e3e240",
   "metadata": {},
   "source": [
    "## 5. Filtering countries from the text file"
   ]
  },
  {
   "cell_type": "code",
   "execution_count": 80,
   "id": "dfc4df9e-d9d5-4871-908c-c3376518154c",
   "metadata": {},
   "outputs": [],
   "source": [
    "# Function to filter out entities not of interest\n",
    "\n",
    "def filter_entity(ent_list, countries_df):\n",
    "    return [ent for ent in ent_list \n",
    "            if ent in list(countries_df['country_name'])]"
   ]
  },
  {
   "cell_type": "code",
   "execution_count": 81,
   "id": "95251bd2-69b3-4427-8bea-565fca6cc601",
   "metadata": {},
   "outputs": [],
   "source": [
    "df_sentences['character_entities'] = df_sentences['entities'].apply(lambda x: filter_entity(x, countries_df))"
   ]
  },
  {
   "cell_type": "code",
   "execution_count": 82,
   "id": "8f24ced8-fe18-40a4-9f3c-53e8f8c12433",
   "metadata": {},
   "outputs": [
    {
     "data": {
      "text/plain": [
       "0                                        []\n",
       "1                                        []\n",
       "2                                        []\n",
       "3                                        []\n",
       "4                                        []\n",
       "5                                        []\n",
       "6                                        []\n",
       "7                                        []\n",
       "8                                        []\n",
       "9                                        []\n",
       "10                                       []\n",
       "11                                       []\n",
       "12                         [France, Russia]\n",
       "13    [Germany, Austria, Hungary, Bulgaria]\n",
       "14                                 [Russia]\n",
       "15                        [Germany, Russia]\n",
       "16                                [Germany]\n",
       "17                                [Ukraine]\n",
       "18                                [Germany]\n",
       "19                                       []\n",
       "Name: character_entities, dtype: object"
      ]
     },
     "execution_count": 82,
     "metadata": {},
     "output_type": "execute_result"
    }
   ],
   "source": [
    "df_sentences['character_entities'].head(20)"
   ]
  },
  {
   "cell_type": "code",
   "execution_count": 83,
   "id": "f4f22398-9aae-4146-ae5f-67f2224b4eef",
   "metadata": {},
   "outputs": [],
   "source": [
    "# Filter out sentences that don't have any character entities\n",
    "\n",
    "df_sentences_filtered = df_sentences[df_sentences['character_entities'].map(len) > 0]"
   ]
  },
  {
   "cell_type": "code",
   "execution_count": 84,
   "id": "681570ed-c75b-410d-a3d3-69a105ff7fbe",
   "metadata": {},
   "outputs": [
    {
     "data": {
      "text/html": [
       "<div>\n",
       "<style scoped>\n",
       "    .dataframe tbody tr th:only-of-type {\n",
       "        vertical-align: middle;\n",
       "    }\n",
       "\n",
       "    .dataframe tbody tr th {\n",
       "        vertical-align: top;\n",
       "    }\n",
       "\n",
       "    .dataframe thead th {\n",
       "        text-align: right;\n",
       "    }\n",
       "</style>\n",
       "<table border=\"1\" class=\"dataframe\">\n",
       "  <thead>\n",
       "    <tr style=\"text-align: right;\">\n",
       "      <th></th>\n",
       "      <th>sentence</th>\n",
       "      <th>entities</th>\n",
       "      <th>character_entities</th>\n",
       "    </tr>\n",
       "  </thead>\n",
       "  <tbody>\n",
       "    <tr>\n",
       "      <th>333</th>\n",
       "      <td>(After, the, French, withdrawal, from, its, fo...</td>\n",
       "      <td>[French, 21 July 1954, Vietnam, two, Korea, th...</td>\n",
       "      <td>[Vietnam]</td>\n",
       "    </tr>\n",
       "    <tr>\n",
       "      <th>339</th>\n",
       "      <td>(The, plan, went, awry, ,, with, Nixon,  , del...</td>\n",
       "      <td>[Nixon, Cambodia, South Vietnamese]</td>\n",
       "      <td>[Cambodia]</td>\n",
       "    </tr>\n",
       "    <tr>\n",
       "      <th>342</th>\n",
       "      <td>(Saigon, was, captured, on, 30, April, 1975, ,...</td>\n",
       "      <td>[Saigon, 30 April 1975, Vietnam, Communist, a ...</td>\n",
       "      <td>[Vietnam]</td>\n",
       "    </tr>\n",
       "    <tr>\n",
       "      <th>344</th>\n",
       "      <td>(Cuba, ,, under, Fidel, Castro, 's, socialist,...</td>\n",
       "      <td>[Cuba, Fidel Castro's, the Soviet Union]</td>\n",
       "      <td>[Cuba]</td>\n",
       "    </tr>\n",
       "    <tr>\n",
       "      <th>345</th>\n",
       "      <td>(This, was, obviously, disquieting, to, the, U...</td>\n",
       "      <td>[the United States, Cuba]</td>\n",
       "      <td>[Cuba]</td>\n",
       "    </tr>\n",
       "    <tr>\n",
       "      <th>349</th>\n",
       "      <td>(Main, article, :, Space, RaceWith, Cold, War,...</td>\n",
       "      <td>[Space RaceWith Cold War, the Soviet Union, Un...</td>\n",
       "      <td>[United States]</td>\n",
       "    </tr>\n",
       "    <tr>\n",
       "      <th>358</th>\n",
       "      <td>(In, the, 1990s, ,, work, on, the, Internation...</td>\n",
       "      <td>[the 1990s, the International Space Station, t...</td>\n",
       "      <td>[Russia, Japan, Canada]</td>\n",
       "    </tr>\n",
       "    <tr>\n",
       "      <th>363</th>\n",
       "      <td>(Mikhail, Gorbachev, ,, its, last, leader, ,, ...</td>\n",
       "      <td>[Mikhail Gorbachev, Solidarity, the Berlin Wal...</td>\n",
       "      <td>[Lithuania]</td>\n",
       "    </tr>\n",
       "    <tr>\n",
       "      <th>364</th>\n",
       "      <td>(Boris, Yeltsin, ,, president, of, Russia, ,, ...</td>\n",
       "      <td>[Boris Yeltsin, Russia]</td>\n",
       "      <td>[Russia]</td>\n",
       "    </tr>\n",
       "    <tr>\n",
       "      <th>417</th>\n",
       "      <td>(The, influence, of, China, and, India, was, a...</td>\n",
       "      <td>[China, India, West]</td>\n",
       "      <td>[India]</td>\n",
       "    </tr>\n",
       "  </tbody>\n",
       "</table>\n",
       "</div>"
      ],
      "text/plain": [
       "                                              sentence  \\\n",
       "333  (After, the, French, withdrawal, from, its, fo...   \n",
       "339  (The, plan, went, awry, ,, with, Nixon,  , del...   \n",
       "342  (Saigon, was, captured, on, 30, April, 1975, ,...   \n",
       "344  (Cuba, ,, under, Fidel, Castro, 's, socialist,...   \n",
       "345  (This, was, obviously, disquieting, to, the, U...   \n",
       "349  (Main, article, :, Space, RaceWith, Cold, War,...   \n",
       "358  (In, the, 1990s, ,, work, on, the, Internation...   \n",
       "363  (Mikhail, Gorbachev, ,, its, last, leader, ,, ...   \n",
       "364  (Boris, Yeltsin, ,, president, of, Russia, ,, ...   \n",
       "417  (The, influence, of, China, and, India, was, a...   \n",
       "\n",
       "                                              entities  \\\n",
       "333  [French, 21 July 1954, Vietnam, two, Korea, th...   \n",
       "339                [Nixon, Cambodia, South Vietnamese]   \n",
       "342  [Saigon, 30 April 1975, Vietnam, Communist, a ...   \n",
       "344           [Cuba, Fidel Castro's, the Soviet Union]   \n",
       "345                          [the United States, Cuba]   \n",
       "349  [Space RaceWith Cold War, the Soviet Union, Un...   \n",
       "358  [the 1990s, the International Space Station, t...   \n",
       "363  [Mikhail Gorbachev, Solidarity, the Berlin Wal...   \n",
       "364                            [Boris Yeltsin, Russia]   \n",
       "417                               [China, India, West]   \n",
       "\n",
       "          character_entities  \n",
       "333                [Vietnam]  \n",
       "339               [Cambodia]  \n",
       "342                [Vietnam]  \n",
       "344                   [Cuba]  \n",
       "345                   [Cuba]  \n",
       "349          [United States]  \n",
       "358  [Russia, Japan, Canada]  \n",
       "363              [Lithuania]  \n",
       "364                 [Russia]  \n",
       "417                  [India]  "
      ]
     },
     "execution_count": 84,
     "metadata": {},
     "output_type": "execute_result"
    }
   ],
   "source": [
    "df_sentences_filtered.tail(10)"
   ]
  },
  {
   "cell_type": "markdown",
   "id": "aef0259f-6fbd-4419-803b-bbc32191186a",
   "metadata": {},
   "source": [
    "## 6. Create relationships"
   ]
  },
  {
   "cell_type": "code",
   "execution_count": 85,
   "id": "1168ca2b-486c-4812-a86c-24b74b38dbbe",
   "metadata": {},
   "outputs": [],
   "source": [
    "# Defining relationships \n",
    "\n",
    "# window size = 5 : this defines how many sentences will be looked at simultaneously \n",
    "relationships = [] # create an empty list\n",
    "\n",
    "for i in range(df_sentences_filtered.index[-1]):\n",
    "    end_i = min(i+5, df_sentences_filtered.index[-1])\n",
    "    char_list = sum((df_sentences_filtered.loc[i: end_i].character_entities), [])\n",
    "    \n",
    "    # Remove duplicated characters that are next to each other\n",
    "    char_unique = [char_list[i] for i in range(len(char_list)) \n",
    "                   if (i==0) or char_list[i] != char_list[i-1]]\n",
    "    \n",
    "    if len(char_unique) > 1:\n",
    "        for idx, a in enumerate(char_unique[:-1]):\n",
    "            b = char_unique[idx + 1]\n",
    "            relationships.append({\"source\": a, \"target\": b})"
   ]
  },
  {
   "cell_type": "code",
   "execution_count": 86,
   "id": "5ee1f670-265d-4d93-9a1c-a6dcc5f7f686",
   "metadata": {},
   "outputs": [],
   "source": [
    "relationship_df = pd.DataFrame(relationships)"
   ]
  },
  {
   "cell_type": "code",
   "execution_count": 87,
   "id": "58748256-d8c9-4d4d-8198-4e2326614ab5",
   "metadata": {},
   "outputs": [
    {
     "data": {
      "text/html": [
       "<div>\n",
       "<style scoped>\n",
       "    .dataframe tbody tr th:only-of-type {\n",
       "        vertical-align: middle;\n",
       "    }\n",
       "\n",
       "    .dataframe tbody tr th {\n",
       "        vertical-align: top;\n",
       "    }\n",
       "\n",
       "    .dataframe thead th {\n",
       "        text-align: right;\n",
       "    }\n",
       "</style>\n",
       "<table border=\"1\" class=\"dataframe\">\n",
       "  <thead>\n",
       "    <tr style=\"text-align: right;\">\n",
       "      <th></th>\n",
       "      <th>source</th>\n",
       "      <th>target</th>\n",
       "    </tr>\n",
       "  </thead>\n",
       "  <tbody>\n",
       "    <tr>\n",
       "      <th>0</th>\n",
       "      <td>France</td>\n",
       "      <td>Russia</td>\n",
       "    </tr>\n",
       "    <tr>\n",
       "      <th>1</th>\n",
       "      <td>France</td>\n",
       "      <td>Russia</td>\n",
       "    </tr>\n",
       "    <tr>\n",
       "      <th>2</th>\n",
       "      <td>Russia</td>\n",
       "      <td>Germany</td>\n",
       "    </tr>\n",
       "    <tr>\n",
       "      <th>3</th>\n",
       "      <td>Germany</td>\n",
       "      <td>Austria</td>\n",
       "    </tr>\n",
       "    <tr>\n",
       "      <th>4</th>\n",
       "      <td>Austria</td>\n",
       "      <td>Hungary</td>\n",
       "    </tr>\n",
       "    <tr>\n",
       "      <th>...</th>\n",
       "      <td>...</td>\n",
       "      <td>...</td>\n",
       "    </tr>\n",
       "    <tr>\n",
       "      <th>588</th>\n",
       "      <td>Lithuania</td>\n",
       "      <td>Russia</td>\n",
       "    </tr>\n",
       "    <tr>\n",
       "      <th>589</th>\n",
       "      <td>Lithuania</td>\n",
       "      <td>Russia</td>\n",
       "    </tr>\n",
       "    <tr>\n",
       "      <th>590</th>\n",
       "      <td>Lithuania</td>\n",
       "      <td>Russia</td>\n",
       "    </tr>\n",
       "    <tr>\n",
       "      <th>591</th>\n",
       "      <td>Lithuania</td>\n",
       "      <td>Russia</td>\n",
       "    </tr>\n",
       "    <tr>\n",
       "      <th>592</th>\n",
       "      <td>Lithuania</td>\n",
       "      <td>Russia</td>\n",
       "    </tr>\n",
       "  </tbody>\n",
       "</table>\n",
       "<p>593 rows × 2 columns</p>\n",
       "</div>"
      ],
      "text/plain": [
       "        source   target\n",
       "0       France   Russia\n",
       "1       France   Russia\n",
       "2       Russia  Germany\n",
       "3      Germany  Austria\n",
       "4      Austria  Hungary\n",
       "..         ...      ...\n",
       "588  Lithuania   Russia\n",
       "589  Lithuania   Russia\n",
       "590  Lithuania   Russia\n",
       "591  Lithuania   Russia\n",
       "592  Lithuania   Russia\n",
       "\n",
       "[593 rows x 2 columns]"
      ]
     },
     "execution_count": 87,
     "metadata": {},
     "output_type": "execute_result"
    }
   ],
   "source": [
    "relationship_df"
   ]
  },
  {
   "cell_type": "code",
   "execution_count": 88,
   "id": "09938a17-ca2c-4b26-89c4-69737249617f",
   "metadata": {},
   "outputs": [
    {
     "data": {
      "text/html": [
       "<div>\n",
       "<style scoped>\n",
       "    .dataframe tbody tr th:only-of-type {\n",
       "        vertical-align: middle;\n",
       "    }\n",
       "\n",
       "    .dataframe tbody tr th {\n",
       "        vertical-align: top;\n",
       "    }\n",
       "\n",
       "    .dataframe thead th {\n",
       "        text-align: right;\n",
       "    }\n",
       "</style>\n",
       "<table border=\"1\" class=\"dataframe\">\n",
       "  <thead>\n",
       "    <tr style=\"text-align: right;\">\n",
       "      <th></th>\n",
       "      <th>source</th>\n",
       "      <th>target</th>\n",
       "    </tr>\n",
       "  </thead>\n",
       "  <tbody>\n",
       "    <tr>\n",
       "      <th>0</th>\n",
       "      <td>France</td>\n",
       "      <td>Russia</td>\n",
       "    </tr>\n",
       "    <tr>\n",
       "      <th>1</th>\n",
       "      <td>France</td>\n",
       "      <td>Russia</td>\n",
       "    </tr>\n",
       "    <tr>\n",
       "      <th>2</th>\n",
       "      <td>Germany</td>\n",
       "      <td>Russia</td>\n",
       "    </tr>\n",
       "    <tr>\n",
       "      <th>3</th>\n",
       "      <td>Austria</td>\n",
       "      <td>Germany</td>\n",
       "    </tr>\n",
       "    <tr>\n",
       "      <th>4</th>\n",
       "      <td>Austria</td>\n",
       "      <td>Hungary</td>\n",
       "    </tr>\n",
       "  </tbody>\n",
       "</table>\n",
       "</div>"
      ],
      "text/plain": [
       "    source   target\n",
       "0   France   Russia\n",
       "1   France   Russia\n",
       "2  Germany   Russia\n",
       "3  Austria  Germany\n",
       "4  Austria  Hungary"
      ]
     },
     "execution_count": 88,
     "metadata": {},
     "output_type": "execute_result"
    }
   ],
   "source": [
    "# Sort the cases with a->b and b->a\n",
    "\n",
    "relationship_df = pd.DataFrame(np.sort(relationship_df.values, axis = 1), columns = relationship_df.columns)\n",
    "relationship_df.head(5)"
   ]
  },
  {
   "cell_type": "code",
   "execution_count": 89,
   "id": "4350e777-d2a6-48af-823d-5fab1dc5063e",
   "metadata": {},
   "outputs": [],
   "source": [
    "# Summarize the interactions\n",
    "\n",
    "relationship_df[\"value\"] = 1\n",
    "relationship_df = relationship_df.groupby([\"source\",\"target\"], sort=False, as_index=False).sum()"
   ]
  },
  {
   "cell_type": "code",
   "execution_count": 90,
   "id": "fde3c301-17a3-4284-8453-8539520fb78f",
   "metadata": {},
   "outputs": [
    {
     "data": {
      "text/html": [
       "<div>\n",
       "<style scoped>\n",
       "    .dataframe tbody tr th:only-of-type {\n",
       "        vertical-align: middle;\n",
       "    }\n",
       "\n",
       "    .dataframe tbody tr th {\n",
       "        vertical-align: top;\n",
       "    }\n",
       "\n",
       "    .dataframe thead th {\n",
       "        text-align: right;\n",
       "    }\n",
       "</style>\n",
       "<table border=\"1\" class=\"dataframe\">\n",
       "  <thead>\n",
       "    <tr style=\"text-align: right;\">\n",
       "      <th></th>\n",
       "      <th>source</th>\n",
       "      <th>target</th>\n",
       "      <th>value</th>\n",
       "    </tr>\n",
       "  </thead>\n",
       "  <tbody>\n",
       "    <tr>\n",
       "      <th>0</th>\n",
       "      <td>France</td>\n",
       "      <td>Russia</td>\n",
       "      <td>12</td>\n",
       "    </tr>\n",
       "    <tr>\n",
       "      <th>1</th>\n",
       "      <td>Germany</td>\n",
       "      <td>Russia</td>\n",
       "      <td>26</td>\n",
       "    </tr>\n",
       "    <tr>\n",
       "      <th>2</th>\n",
       "      <td>Austria</td>\n",
       "      <td>Germany</td>\n",
       "      <td>16</td>\n",
       "    </tr>\n",
       "    <tr>\n",
       "      <th>3</th>\n",
       "      <td>Austria</td>\n",
       "      <td>Hungary</td>\n",
       "      <td>6</td>\n",
       "    </tr>\n",
       "    <tr>\n",
       "      <th>4</th>\n",
       "      <td>Bulgaria</td>\n",
       "      <td>Hungary</td>\n",
       "      <td>6</td>\n",
       "    </tr>\n",
       "    <tr>\n",
       "      <th>5</th>\n",
       "      <td>Bulgaria</td>\n",
       "      <td>Russia</td>\n",
       "      <td>5</td>\n",
       "    </tr>\n",
       "    <tr>\n",
       "      <th>6</th>\n",
       "      <td>Germany</td>\n",
       "      <td>Ukraine</td>\n",
       "      <td>10</td>\n",
       "    </tr>\n",
       "    <tr>\n",
       "      <th>7</th>\n",
       "      <td>Germany</td>\n",
       "      <td>Italy</td>\n",
       "      <td>26</td>\n",
       "    </tr>\n",
       "    <tr>\n",
       "      <th>8</th>\n",
       "      <td>France</td>\n",
       "      <td>Poland</td>\n",
       "      <td>14</td>\n",
       "    </tr>\n",
       "    <tr>\n",
       "      <th>9</th>\n",
       "      <td>France</td>\n",
       "      <td>Germany</td>\n",
       "      <td>24</td>\n",
       "    </tr>\n",
       "  </tbody>\n",
       "</table>\n",
       "</div>"
      ],
      "text/plain": [
       "     source   target  value\n",
       "0    France   Russia     12\n",
       "1   Germany   Russia     26\n",
       "2   Austria  Germany     16\n",
       "3   Austria  Hungary      6\n",
       "4  Bulgaria  Hungary      6\n",
       "5  Bulgaria   Russia      5\n",
       "6   Germany  Ukraine     10\n",
       "7   Germany    Italy     26\n",
       "8    France   Poland     14\n",
       "9    France  Germany     24"
      ]
     },
     "execution_count": 90,
     "metadata": {},
     "output_type": "execute_result"
    }
   ],
   "source": [
    "relationship_df.head(10)"
   ]
  },
  {
   "cell_type": "code",
   "execution_count": 91,
   "id": "b7961fef-2fe7-4828-8ef0-e9f3ddd64a0f",
   "metadata": {},
   "outputs": [],
   "source": [
    "relationship_df.to_csv(os.path.join(path, '02 Data', 'Prepared Data' \"20thCentury_relationship2.csv\"))"
   ]
  },
  {
   "cell_type": "code",
   "execution_count": null,
   "id": "a5c3c4ca",
   "metadata": {},
   "outputs": [],
   "source": []
  }
 ],
 "metadata": {
  "kernelspec": {
   "display_name": "venv_20th-Century",
   "language": "python",
   "name": "python3"
  },
  "language_info": {
   "codemirror_mode": {
    "name": "ipython",
    "version": 3
   },
   "file_extension": ".py",
   "mimetype": "text/x-python",
   "name": "python",
   "nbconvert_exporter": "python",
   "pygments_lexer": "ipython3",
   "version": "3.12.5"
  }
 },
 "nbformat": 4,
 "nbformat_minor": 5
}

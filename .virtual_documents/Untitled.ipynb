data = pd.DataFrame({"Month": ['January', 'February', 'March','April', 'May', 'June', 'July', 'August', 'September', 'October', 'November', 'December'],
                     "Avg_Temperature": ["13", "22", "35", "49", "68", "79", "88", "90", "85", "74", "51", "25"]
                     })

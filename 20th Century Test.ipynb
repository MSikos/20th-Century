{
 "cells": [
  {
   "cell_type": "markdown",
   "id": "b31ac963-7b57-4bfa-99b8-838b3e88eb06",
   "metadata": {},
   "source": [
    "# 20th Century Wookbook"
   ]
  },
  {
   "cell_type": "code",
   "execution_count": 4,
   "id": "e82705c0-1d1a-4109-b1d9-cf99d6da254b",
   "metadata": {},
   "outputs": [],
   "source": [
    "import pandas as pd\n",
    "import numpy as np\n",
    "import os"
   ]
  },
  {
   "cell_type": "code",
   "execution_count": 3,
   "id": "6f7d21db-31e2-43dc-be61-cee940f0e395",
   "metadata": {},
   "outputs": [
    {
     "data": {
      "text/plain": [
       "396"
      ]
     },
     "execution_count": 3,
     "metadata": {},
     "output_type": "execute_result"
    }
   ],
   "source": [
    "## Simple math\n",
    "x = 6\n",
    "y = 66\n",
    "x * y"
   ]
  },
  {
   "cell_type": "code",
   "execution_count": null,
   "id": "9f89bd6e-902f-411d-9440-fec64961286f",
   "metadata": {},
   "outputs": [],
   "source": []
  }
 ],
 "metadata": {
  "kernelspec": {
   "display_name": "Python 3 (ipykernel)",
   "language": "python",
   "name": "python3"
  },
  "language_info": {
   "codemirror_mode": {
    "name": "ipython",
    "version": 3
   },
   "file_extension": ".py",
   "mimetype": "text/x-python",
   "name": "python",
   "nbconvert_exporter": "python",
   "pygments_lexer": "ipython3",
   "version": "3.12.4"
  }
 },
 "nbformat": 4,
 "nbformat_minor": 5
}

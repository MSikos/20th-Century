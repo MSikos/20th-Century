{
 "cells": [
  {
   "cell_type": "markdown",
   "id": "7aada789-68c3-4bbd-bd59-336aeb15a158",
   "metadata": {},
   "source": [
    "# Exercise 1.4 Accessing web data with  Data scraping"
   ]
  },
  {
   "cell_type": "code",
   "execution_count": 2,
   "id": "490bcf68-ad5f-44c7-a71d-9acd8045666c",
   "metadata": {},
   "outputs": [],
   "source": [
    "# Import libraries\n",
    "\n",
    "import pandas as pd\n",
    "import time\n",
    "from selenium import webdriver\n",
    "from webdriver_manager.chrome import ChromeDriverManager\n",
    "from selenium.webdriver.common.by import By\n",
    "from selenium.webdriver.chrome.service import Service\n",
    "from selenium.webdriver.chrome.options import Options\n",
    "import matplotlib.pyplot as plt\n",
    "import os\n",
    "import logging\n",
    "import requests\n",
    "import bs4\n",
    "from bs4 import BeautifulSoup"
   ]
  },
  {
   "cell_type": "code",
   "execution_count": 3,
   "id": "163ceb45-c0e4-4068-9e7f-1fbeb6b7484b",
   "metadata": {},
   "outputs": [],
   "source": [
    "# Install Chrome webdriver\n",
    "service = Service(executable_path=r'C:\\Users\\Stony\\CFRepos\\chromedriver\\chromedriver.exe')\n",
    "driver = webdriver.Chrome(service=service)"
   ]
  },
  {
   "cell_type": "markdown",
   "id": "a22867a2-3130-427a-90bc-ae39553393bd",
   "metadata": {},
   "source": [
    "## 2. Scrape Key events of the 20th Century page"
   ]
  },
  {
   "cell_type": "code",
   "execution_count": 4,
   "id": "79411250-c3c9-4bc3-bbf7-05f9597326a4",
   "metadata": {},
   "outputs": [],
   "source": [
    "# Get URL\n",
    "\n",
    "page = requests.get(\"https://en.wikipedia.org/wiki/Key_events_of_the_20th_century\")"
   ]
  },
  {
   "cell_type": "code",
   "execution_count": null,
   "id": "b6c41002-feb2-4bf7-aca9-eb19eba4b0ea",
   "metadata": {},
   "outputs": [],
   "source": [
    "# Create soup and get title\n",
    "\n",
    "soup = BeautifulSoup(page.text, 'html.parser')\n",
    "print(soup.title)"
   ]
  },
  {
   "cell_type": "code",
   "execution_count": null,
   "id": "f918c18d-8200-4d42-b499-49b07aaafe09",
   "metadata": {},
   "outputs": [],
   "source": [
    "text = soup.get_text()"
   ]
  },
  {
   "cell_type": "code",
   "execution_count": null,
   "id": "08a02bda-b913-42fc-9646-e09b68cc6e36",
   "metadata": {},
   "outputs": [],
   "source": [
    "text = text.encode('utf-8')"
   ]
  },
  {
   "cell_type": "code",
   "execution_count": null,
   "id": "374c7a85-cef7-479b-a81b-49600fd2409f",
   "metadata": {},
   "outputs": [],
   "source": [
    "with open('20thCentury_Events_Wiki.txt', 'wb') as f: \n",
    "    f.write(text)"
   ]
  },
  {
   "cell_type": "code",
   "execution_count": null,
   "id": "e8a74318-b02b-412d-8dad-701a3b95f2df",
   "metadata": {},
   "outputs": [],
   "source": [
    "# Close the Chrome window\n",
    "driver.quit()"
   ]
  },
  {
   "cell_type": "markdown",
   "id": "418a6a93-33ee-44f3-bccc-5717c8264914",
   "metadata": {},
   "source": [
    "# Bonus Task"
   ]
  },
  {
   "cell_type": "code",
   "execution_count": 5,
   "id": "c7f4137d-b4db-46c1-822e-75473629f0ff",
   "metadata": {},
   "outputs": [],
   "source": [
    "# Get URL\n",
    "page_url = \"https://simple.m.wikipedia.org/wiki/List_of_countries\"\n",
    "driver.get(page_url)"
   ]
  },
  {
   "cell_type": "code",
   "execution_count": 6,
   "id": "8952c451-9a1e-4347-bbf1-088988a7d08f",
   "metadata": {},
   "outputs": [],
   "source": [
    "# Create a collection of the countries\n",
    "\n",
    "country_list = driver.find_elements(by = By.CLASS_NAME, value = 'mw-body-content')"
   ]
  },
  {
   "cell_type": "code",
   "execution_count": 7,
   "id": "38464677",
   "metadata": {},
   "outputs": [
    {
     "data": {
      "text/plain": [
       "\"This is a list of sovereign states. Disputed countries are listed at the bottom.\\n\\nContents: Top – 0-9 A B C D E F G H I J K L M N O P Q R S T U V W X Y Z\\nA\\nchange\\n Afghanistan –  Albania –  Algeria –  Andorra –  Angola –  Antigua and Barbuda –  Argentina –  Armenia –  Australia –  Austria –  Azerbaijan\\nB\\nchange\\n Bahamas, The –  Bahrain –  Bangladesh –  Barbados –  Belarus –  Belgium –  Belize –  Benin –  Bhutan –  Bolivia –  Bosnia and Herzegovina –  Botswana –  Brazil –  Brunei –  Bulgaria –  Burkina Faso –  Burundi\\nC\\nchange\\n Cabo Verde –  Cambodia –  Cameroon –  Canada –  Central African Republic –  Chad –  Chile –  China –  Colombia –  Comoros –  Congo, Democratic Republic of the –  Congo, Republic of the –  Costa Rica –  Croatia –  Cuba –  Cyprus –  Czech Republic\\nD\\nchange\\n Denmark –  Djibouti –  Dominica –  Dominican Republic\\nE\\nchange\\n East Timor –  Ecuador –  Egypt –  El Salvador –  Equatorial Guinea –  Eritrea –  Estonia –  Eswatini –  Ethiopia\\nF\\nchange\\n Fiji –  Finland –  France\\nG\\nchange\\n Gabon –  Gambia –  Georgia –  Germany –  Ghana –  Greece –  Grenada –  Guatemala –  Guinea –  Guinea-Bissau –  Guyana\\nH\\nchange\\n Haiti –  Honduras –  Hungary\\nI\\nchange\\n Iceland –  India –  Indonesia –  Iran –  Iraq –  Ireland –  Israel –  Italy –  Ivory Coast\\nJ\\nchange\\n Jamaica –  Japan –  Jordan\\nK\\nchange\\n Kazakhstan –  Kenya –  Kiribati –  Korea, North –  Korea, South –  Kuwait –  Kyrgyzstan\\nL\\nchange\\n Laos –  Latvia –  Lebanon –  Lesotho –  Liberia –  Libya –  Liechtenstein –  Lithuania –  Luxembourg\\nM\\nchange\\n Madagascar –  Malawi –  Malaysia –  Maldives –  Mali –  Malta –  Marshall Islands –  Mauritania –  Mauritius –  Mexico –  Micronesia –  Moldova –  Monaco –  Mongolia –  Montenegro –  Morocco –  Mozambique –  Myanmar\\nN\\nchange\\n  Namibia –   Nauru –     Nepal –   Netherlands –   New Zealand –   Nicaragua –   Niger –   Nigeria –   North Macedonia –   Norway\\nO\\nchange\\n  Oman\\nP\\nchange\\n  Pakistan –   Palau –   Palestine –   Panama –   Papua New Guinea –   Paraguay –   Peru –   Philippines –   Poland –   Portugal\\nQ\\nchange\\n  Qatar\\nR\\nchange\\n  Romania –   Russia –   Rwanda\\nS\\nchange\\n  Saint Kitts and Nevis –   Saint Lucia –   Saint Vincent and the Grenadines –   Samoa –   San Marino –   São Tomé and Príncipe –   Saudi Arabia –   Senegal –   Serbia –   Seychelles –   Sierra Leone –   Singapore –   Slovakia –   Slovenia –   Solomon Islands –   Somalia –   South Africa –   South Sudan –   Spain –   Sri Lanka –   Sudan –   Suriname –   Sweden –    Switzerland –   Syria\\nT\\nchange\\n  Tajikistan –   Tanzania –   Thailand –   Togo –   Tonga –   Trinidad and Tobago –   Tunisia –   Turkey –   Turkmenistan –   Tuvalu\\nU\\nchange\\n  Uganda –   Ukraine –   United Arab Emirates –   United Kingdom –   United States –   Uruguay –   Uzbekistan\\nV\\nchange\\n  Vanuatu –    Vatican City –   Venezuela –   Vietnam\\nY\\nchange\\n  Yemen\\nZ\\nchange\\n  Zambia –   Zimbabwe\\nDisputed countries\\nchange\\nSee also: List of states with limited recognition\\n  Abkhazia –   Donetsk People's Republic –   Kosovo –   Liberland –   Luhansk People's Republic –   Northern Cyprus –   Sahrawi Arab Democratic Republic –   Sealand –   Somaliland –   South Ossetia –   Taiwan –   Transnistria\\nPlaces sometimes considered countries, but not actual countries according to international law\\nchange\\nDependent territories\\nchange\\n  Akrotiri and Dhekelia –   American Samoa –   Anguilla –   Bermuda –   British Indian Ocean Territory –   British Virgin Islands –   Cayman Islands –   Cook Islands –   Falkland Islands –   Gibraltar –   Guam –   Guernsey –   Isle of Man –   Jersey –   Montserrat –   Niue –   Northern Mariana Islands –   Pitcairn Islands –   Puerto Rico –   Saint Helena, Ascension and Tristan da Cunha   South Georgia and the South Sandwich Islands –   Tokelau –   Turks and Caicos Islands –   United States Minor Outlying Islands –   United States Virgin Islands\\nAdministrative divisions\\nchange\\n  Adjara –   Anjouan –   Azad Kashmir –   Bougainville –   England –   Gagauzia –   Kurdistan   Northern Ireland –   Roraima –   Scotland –   South Moluccas –   Wales –   West Papua\\nIntegral parts of sovereign states\\nchange\\n  Åland –   Aruba –   Azores –   Bonaire –   Canary Islands –   Ceuta –   Christmas Island –   Cocos (Keeling) Islands –   Curaçao –   Easter Island –   Faroe Islands –   French Guiana –   French Polynesia –   French Southern and Antarctic Lands –   Galapagos Islands –   Greenland –   Guadeloupe –   Hong Kong –   Macau –   Madeira –   Martinique –   Mayotte –   Melilla –   New Caledonia –   Norfolk Island –   Réunion –   Saba –   Saint Barthelemy –   Saint Martin –   Saint Pierre and Miquelon –   Sint Eustatius –   Sint Maarten –   Svalbard and Jan Mayen\\nOther entities\\nchange\\n  Antarctica –   Sovereign Military Order of Malta\""
      ]
     },
     "execution_count": 7,
     "metadata": {},
     "output_type": "execute_result"
    }
   ],
   "source": [
    "country_list[0].text"
   ]
  },
  {
   "cell_type": "code",
   "execution_count": 8,
   "id": "fd672e9c",
   "metadata": {},
   "outputs": [],
   "source": [
    "list_countries = country_list[0].text.split(\"\\n\")"
   ]
  },
  {
   "cell_type": "code",
   "execution_count": 9,
   "id": "cccbe227-4148-4992-b8d5-c7ea3bbbbf3c",
   "metadata": {},
   "outputs": [
    {
     "data": {
      "text/plain": [
       "['This is a list of sovereign states. Disputed countries are listed at the bottom.',\n",
       " '',\n",
       " 'Contents: Top – 0-9 A B C D E F G H I J K L M N O P Q R S T U V W X Y Z',\n",
       " 'A',\n",
       " 'change',\n",
       " ' Afghanistan –  Albania –  Algeria –  Andorra –  Angola –  Antigua and Barbuda –  Argentina –  Armenia –  Australia –  Austria –  Azerbaijan',\n",
       " 'B',\n",
       " 'change',\n",
       " ' Bahamas, The –  Bahrain –  Bangladesh –  Barbados –  Belarus –  Belgium –  Belize –  Benin –  Bhutan –  Bolivia –  Bosnia and Herzegovina –  Botswana –  Brazil –  Brunei –  Bulgaria –  Burkina Faso –  Burundi',\n",
       " 'C',\n",
       " 'change',\n",
       " ' Cabo Verde –  Cambodia –  Cameroon –  Canada –  Central African Republic –  Chad –  Chile –  China –  Colombia –  Comoros –  Congo, Democratic Republic of the –  Congo, Republic of the –  Costa Rica –  Croatia –  Cuba –  Cyprus –  Czech Republic',\n",
       " 'D',\n",
       " 'change',\n",
       " ' Denmark –  Djibouti –  Dominica –  Dominican Republic',\n",
       " 'E',\n",
       " 'change',\n",
       " ' East Timor –  Ecuador –  Egypt –  El Salvador –  Equatorial Guinea –  Eritrea –  Estonia –  Eswatini –  Ethiopia',\n",
       " 'F',\n",
       " 'change',\n",
       " ' Fiji –  Finland –  France',\n",
       " 'G',\n",
       " 'change',\n",
       " ' Gabon –  Gambia –  Georgia –  Germany –  Ghana –  Greece –  Grenada –  Guatemala –  Guinea –  Guinea-Bissau –  Guyana',\n",
       " 'H',\n",
       " 'change',\n",
       " ' Haiti –  Honduras –  Hungary',\n",
       " 'I',\n",
       " 'change',\n",
       " ' Iceland –  India –  Indonesia –  Iran –  Iraq –  Ireland –  Israel –  Italy –  Ivory Coast',\n",
       " 'J',\n",
       " 'change',\n",
       " ' Jamaica –  Japan –  Jordan',\n",
       " 'K',\n",
       " 'change',\n",
       " ' Kazakhstan –  Kenya –  Kiribati –  Korea, North –  Korea, South –  Kuwait –  Kyrgyzstan',\n",
       " 'L',\n",
       " 'change',\n",
       " ' Laos –  Latvia –  Lebanon –  Lesotho –  Liberia –  Libya –  Liechtenstein –  Lithuania –  Luxembourg',\n",
       " 'M',\n",
       " 'change',\n",
       " ' Madagascar –  Malawi –  Malaysia –  Maldives –  Mali –  Malta –  Marshall Islands –  Mauritania –  Mauritius –  Mexico –  Micronesia –  Moldova –  Monaco –  Mongolia –  Montenegro –  Morocco –  Mozambique –  Myanmar',\n",
       " 'N',\n",
       " 'change',\n",
       " '  Namibia –   Nauru –     Nepal –   Netherlands –   New Zealand –   Nicaragua –   Niger –   Nigeria –   North Macedonia –   Norway',\n",
       " 'O',\n",
       " 'change',\n",
       " '  Oman',\n",
       " 'P',\n",
       " 'change',\n",
       " '  Pakistan –   Palau –   Palestine –   Panama –   Papua New Guinea –   Paraguay –   Peru –   Philippines –   Poland –   Portugal',\n",
       " 'Q',\n",
       " 'change',\n",
       " '  Qatar',\n",
       " 'R',\n",
       " 'change',\n",
       " '  Romania –   Russia –   Rwanda',\n",
       " 'S',\n",
       " 'change',\n",
       " '  Saint Kitts and Nevis –   Saint Lucia –   Saint Vincent and the Grenadines –   Samoa –   San Marino –   São Tomé and Príncipe –   Saudi Arabia –   Senegal –   Serbia –   Seychelles –   Sierra Leone –   Singapore –   Slovakia –   Slovenia –   Solomon Islands –   Somalia –   South Africa –   South Sudan –   Spain –   Sri Lanka –   Sudan –   Suriname –   Sweden –    Switzerland –   Syria',\n",
       " 'T',\n",
       " 'change',\n",
       " '  Tajikistan –   Tanzania –   Thailand –   Togo –   Tonga –   Trinidad and Tobago –   Tunisia –   Turkey –   Turkmenistan –   Tuvalu',\n",
       " 'U',\n",
       " 'change',\n",
       " '  Uganda –   Ukraine –   United Arab Emirates –   United Kingdom –   United States –   Uruguay –   Uzbekistan',\n",
       " 'V',\n",
       " 'change',\n",
       " '  Vanuatu –    Vatican City –   Venezuela –   Vietnam',\n",
       " 'Y',\n",
       " 'change',\n",
       " '  Yemen',\n",
       " 'Z',\n",
       " 'change',\n",
       " '  Zambia –   Zimbabwe',\n",
       " 'Disputed countries',\n",
       " 'change',\n",
       " 'See also: List of states with limited recognition',\n",
       " \"  Abkhazia –   Donetsk People's Republic –   Kosovo –   Liberland –   Luhansk People's Republic –   Northern Cyprus –   Sahrawi Arab Democratic Republic –   Sealand –   Somaliland –   South Ossetia –   Taiwan –   Transnistria\",\n",
       " 'Places sometimes considered countries, but not actual countries according to international law',\n",
       " 'change',\n",
       " 'Dependent territories',\n",
       " 'change',\n",
       " '  Akrotiri and Dhekelia –   American Samoa –   Anguilla –   Bermuda –   British Indian Ocean Territory –   British Virgin Islands –   Cayman Islands –   Cook Islands –   Falkland Islands –   Gibraltar –   Guam –   Guernsey –   Isle of Man –   Jersey –   Montserrat –   Niue –   Northern Mariana Islands –   Pitcairn Islands –   Puerto Rico –   Saint Helena, Ascension and Tristan da Cunha   South Georgia and the South Sandwich Islands –   Tokelau –   Turks and Caicos Islands –   United States Minor Outlying Islands –   United States Virgin Islands',\n",
       " 'Administrative divisions',\n",
       " 'change',\n",
       " '  Adjara –   Anjouan –   Azad Kashmir –   Bougainville –   England –   Gagauzia –   Kurdistan   Northern Ireland –   Roraima –   Scotland –   South Moluccas –   Wales –   West Papua',\n",
       " 'Integral parts of sovereign states',\n",
       " 'change',\n",
       " '  Åland –   Aruba –   Azores –   Bonaire –   Canary Islands –   Ceuta –   Christmas Island –   Cocos (Keeling) Islands –   Curaçao –   Easter Island –   Faroe Islands –   French Guiana –   French Polynesia –   French Southern and Antarctic Lands –   Galapagos Islands –   Greenland –   Guadeloupe –   Hong Kong –   Macau –   Madeira –   Martinique –   Mayotte –   Melilla –   New Caledonia –   Norfolk Island –   Réunion –   Saba –   Saint Barthelemy –   Saint Martin –   Saint Pierre and Miquelon –   Sint Eustatius –   Sint Maarten –   Svalbard and Jan Mayen',\n",
       " 'Other entities',\n",
       " 'change',\n",
       " '  Antarctica –   Sovereign Military Order of Malta']"
      ]
     },
     "execution_count": 9,
     "metadata": {},
     "output_type": "execute_result"
    }
   ],
   "source": [
    "list_countries"
   ]
  }
 ],
 "metadata": {
  "kernelspec": {
   "display_name": "Python [conda env:venv_20th-Century]",
   "language": "python",
   "name": "conda-env-venv_20th-Century-py"
  },
  "language_info": {
   "codemirror_mode": {
    "name": "ipython",
    "version": 3
   },
   "file_extension": ".py",
   "mimetype": "text/x-python",
   "name": "python",
   "nbconvert_exporter": "python",
   "pygments_lexer": "ipython3",
   "version": "3.12.5"
  }
 },
 "nbformat": 4,
 "nbformat_minor": 5
}
